{
 "cells": [
  {
   "cell_type": "markdown",
   "metadata": {
    "id": "7T-q6b1M6DPz"
   },
   "source": [
    "# Hyperparameter Tuning with Cross-validation"
   ]
  },
  {
   "cell_type": "markdown",
   "metadata": {
    "id": "_mqHC7ML6DP1"
   },
   "source": [
    "### Reference\n",
    "- [Pipeline](https://scikit-learn.org/stable/modules/generated/sklearn.pipeline.Pipeline.html)\n",
    "- [GridSearchCV](https://scikit-learn.org/stable/modules/generated/sklearn.model_selection.GridSearchCV.html)\n",
    "- [LeaveOneGroupOut](https://scikit-learn.org/stable/modules/generated/sklearn.model_selection.LeaveOneGroupOut.html)\n",
    "- [Custom Estimator](https://scikit-learn.org/stable/developers/develop.html)"
   ]
  },
  {
   "cell_type": "markdown",
   "metadata": {},
   "source": [
    "### Import libraries"
   ]
  },
  {
   "cell_type": "code",
   "execution_count": 1,
   "metadata": {},
   "outputs": [],
   "source": [
    "import pickle\n",
    "from urllib.request import urlopen\n",
    "\n",
    "import numpy as np\n",
    "from sklearn.decomposition import PCA\n",
    "from sklearn.model_selection import GridSearchCV, LeaveOneGroupOut\n",
    "from sklearn.neighbors import KNeighborsClassifier\n",
    "from sklearn.pipeline import Pipeline\n",
    "from sklearn.preprocessing import StandardScaler"
   ]
  },
  {
   "cell_type": "markdown",
   "metadata": {
    "id": "xxCGdzsO6DP2"
   },
   "source": [
    "### Data Load"
   ]
  },
  {
   "cell_type": "code",
   "execution_count": 2,
   "metadata": {
    "colab": {
     "base_uri": "https://localhost:8080/",
     "height": 142
    },
    "executionInfo": {
     "elapsed": 2301,
     "status": "ok",
     "timestamp": 1630556806941,
     "user": {
      "displayName": "전창민",
      "photoUrl": "",
      "userId": "07974831753164424103"
     },
     "user_tz": -540
    },
    "id": "hLUxG2xS6DP3",
    "outputId": "669998e6-298f-46f1-951e-4f7e19579da9"
   },
   "outputs": [],
   "source": [
    "def load_data(local=True):\n",
    "    \"\"\"\n",
    "    For colab, use local = False.\n",
    "    It takes a few minutes to download.\n",
    "    \"\"\"\n",
    "    if local:\n",
    "        DATA_PATH = 'data/train.pkl'\n",
    "        with open(DATA_PATH, 'rb') as f:\n",
    "            df = pickle.load(f)\n",
    "    else:\n",
    "        DATA_URL = 'https://gitlab.com/machine-learning-course1/ml-project-samsung-2023-summer/-/raw/master/data/train.pkl?inline=false'\n",
    "        df = pickle.load(urlopen(DATA_URL))\n",
    "\n",
    "    X        = np.stack(df['Data'])\n",
    "    Y        = np.stack(df['Motion'])\n",
    "    Subjects = np.stack(df['Subject'])\n",
    "\n",
    "    return X, Y, Subjects"
   ]
  },
  {
   "cell_type": "code",
   "execution_count": 3,
   "metadata": {},
   "outputs": [
    {
     "name": "stdout",
     "output_type": "stream",
     "text": [
      "X: (13940, 500, 3)  Y: (13940,)  Subjects: (13940,)\n",
      "Motions: ['Nordic walking', 'ascending stairs', 'cycling', 'descending stairs', 'ironing', 'lying', 'rope jumping', 'running', 'sitting', 'standing', 'vacuum cleaning', 'walking']\n",
      "Subjects: [3, 4, 5, 6, 7, 8, 9]\n"
     ]
    }
   ],
   "source": [
    "X, Y, Subjects = load_data(local=True)\n",
    "\n",
    "print(f'X: {X.shape}  Y: {Y.shape}  Subjects: {Subjects.shape}')\n",
    "print(f'Motions: {sorted(set(Y))}')\n",
    "print(f'Subjects: {sorted(set(Subjects))}')"
   ]
  },
  {
   "cell_type": "markdown",
   "metadata": {},
   "source": [
    "### Feature Extraction"
   ]
  },
  {
   "cell_type": "code",
   "execution_count": 4,
   "metadata": {},
   "outputs": [],
   "source": [
    "def extract_features(X_sample: np.ndarray) -> np.ndarray:\n",
    "    \"\"\"\n",
    "    Extract features from a single sample\n",
    "\n",
    "    Parameters\n",
    "    ----------\n",
    "    X_sample : array of shape (500, 3)\n",
    "        100Hz * 5 seconds => 500\n",
    "        3 axis (x, y, z)  => 3\n",
    "\n",
    "    Returns\n",
    "    -------\n",
    "    features : array with (p,) shape\n",
    "        Extracted features from X_sample\n",
    "    \"\"\"\n",
    "    assert X_sample.shape == (500, 3)\n",
    "\n",
    "    # Extract time domain features\n",
    "    X_time = X_sample\n",
    "    mean = np.mean(X_time, axis=0)\n",
    "    std = np.std(X_time, axis=0)\n",
    "\n",
    "    # Extract frequency domain features\n",
    "    X_freq = np.abs(np.fft.fft(X_sample, axis=0))[1:]\n",
    "    dominant_freq = np.argmax(X_freq)\n",
    "\n",
    "    # Concatenate features\n",
    "    features = np.hstack([\n",
    "        mean,\n",
    "        std,\n",
    "        dominant_freq,\n",
    "    ])\n",
    "\n",
    "    assert features.ndim == 1\n",
    "    return features"
   ]
  },
  {
   "cell_type": "code",
   "execution_count": 5,
   "metadata": {},
   "outputs": [
    {
     "name": "stdout",
     "output_type": "stream",
     "text": [
      "(13940, 7)\n"
     ]
    }
   ],
   "source": [
    "# Extract features for multiple samples\n",
    "X_features = np.array([\n",
    "    extract_features(X_sample)\n",
    "    for X_sample in X\n",
    "])\n",
    "print(X_features.shape)"
   ]
  },
  {
   "cell_type": "markdown",
   "metadata": {
    "id": "m0Pl7F8w6DP4"
   },
   "source": [
    "### Example `KNNClassifier`"
   ]
  },
  {
   "cell_type": "code",
   "execution_count": 6,
   "metadata": {
    "executionInfo": {
     "elapsed": 1277,
     "status": "ok",
     "timestamp": 1630556810528,
     "user": {
      "displayName": "전창민",
      "photoUrl": "",
      "userId": "07974831753164424103"
     },
     "user_tz": -540
    },
    "id": "zYRK6Efv6DP4"
   },
   "outputs": [],
   "source": [
    "# Example KNNClassifier\n",
    "KNNClassifier = Pipeline([\n",
    "    ('scaler', StandardScaler()),\n",
    "    ('preprocessor', PCA()),\n",
    "    ('classifier', KNeighborsClassifier()),\n",
    "])"
   ]
  },
  {
   "cell_type": "markdown",
   "metadata": {
    "id": "9RFgqEcv6DP5"
   },
   "source": [
    "### List hyperparameters of the `KNNClassifier`"
   ]
  },
  {
   "cell_type": "code",
   "execution_count": 7,
   "metadata": {
    "colab": {
     "base_uri": "https://localhost:8080/"
    },
    "executionInfo": {
     "elapsed": 480,
     "status": "ok",
     "timestamp": 1630556812399,
     "user": {
      "displayName": "전창민",
      "photoUrl": "",
      "userId": "07974831753164424103"
     },
     "user_tz": -540
    },
    "id": "qjrlXJhf6DP6",
    "outputId": "3462c970-3b50-4f20-f3c4-795ef7933a9b"
   },
   "outputs": [
    {
     "data": {
      "text/plain": [
       "{'memory': None,\n",
       " 'steps': [('scaler', StandardScaler()),\n",
       "  ('preprocessor', PCA()),\n",
       "  ('classifier', KNeighborsClassifier())],\n",
       " 'verbose': False,\n",
       " 'scaler': StandardScaler(),\n",
       " 'preprocessor': PCA(),\n",
       " 'classifier': KNeighborsClassifier(),\n",
       " 'scaler__copy': True,\n",
       " 'scaler__with_mean': True,\n",
       " 'scaler__with_std': True,\n",
       " 'preprocessor__copy': True,\n",
       " 'preprocessor__iterated_power': 'auto',\n",
       " 'preprocessor__n_components': None,\n",
       " 'preprocessor__n_oversamples': 10,\n",
       " 'preprocessor__power_iteration_normalizer': 'auto',\n",
       " 'preprocessor__random_state': None,\n",
       " 'preprocessor__svd_solver': 'auto',\n",
       " 'preprocessor__tol': 0.0,\n",
       " 'preprocessor__whiten': False,\n",
       " 'classifier__algorithm': 'auto',\n",
       " 'classifier__leaf_size': 30,\n",
       " 'classifier__metric': 'minkowski',\n",
       " 'classifier__metric_params': None,\n",
       " 'classifier__n_jobs': None,\n",
       " 'classifier__n_neighbors': 5,\n",
       " 'classifier__p': 2,\n",
       " 'classifier__weights': 'uniform'}"
      ]
     },
     "execution_count": 7,
     "metadata": {},
     "output_type": "execute_result"
    }
   ],
   "source": [
    "KNNClassifier.get_params()"
   ]
  },
  {
   "cell_type": "markdown",
   "metadata": {
    "id": "DeDHwvQK6DP6"
   },
   "source": [
    "### Tune `n_neighbors` of `KNNClassifier`"
   ]
  },
  {
   "cell_type": "code",
   "execution_count": 8,
   "metadata": {
    "colab": {
     "base_uri": "https://localhost:8080/"
    },
    "executionInfo": {
     "elapsed": 43959,
     "status": "ok",
     "timestamp": 1630556859232,
     "user": {
      "displayName": "전창민",
      "photoUrl": "",
      "userId": "07974831753164424103"
     },
     "user_tz": -540
    },
    "id": "4KRFcssB6DP7",
    "outputId": "4af0c15c-e330-4a88-ddc4-1837d905b932"
   },
   "outputs": [
    {
     "name": "stdout",
     "output_type": "stream",
     "text": [
      "Fitting 7 folds for each of 3 candidates, totalling 21 fits\n"
     ]
    },
    {
     "name": "stdout",
     "output_type": "stream",
     "text": [
      "[CV 7/7; 1/3] START classifier__n_neighbors=5...................................\n",
      "[CV 2/7; 1/3] START classifier__n_neighbors=5...................................\n",
      "[CV 2/7; 2/3] START classifier__n_neighbors=10..................................\n",
      "[CV 3/7; 2/3] START classifier__n_neighbors=10..................................\n",
      "[CV 5/7; 2/3] START classifier__n_neighbors=10..................................\n",
      "[CV 7/7; 1/3] END ....classifier__n_neighbors=5;, score=0.141 total time=   0.0s\n",
      "[CV 7/7; 2/3] START classifier__n_neighbors=10..................................\n",
      "[CV 4/7; 2/3] START classifier__n_neighbors=10..................................\n",
      "[CV 6/7; 2/3] START classifier__n_neighbors=10..................................\n",
      "[CV 2/7; 3/3] START classifier__n_neighbors=15..................................\n",
      "[CV 7/7; 2/3] END ...classifier__n_neighbors=10;, score=0.204 total time=   0.0s\n",
      "[CV 4/7; 1/3] START classifier__n_neighbors=5...................................\n",
      "[CV 6/7; 1/3] START classifier__n_neighbors=5...................................\n",
      "[CV 5/7; 1/3] START classifier__n_neighbors=5...................................\n",
      "[CV 2/7; 1/3] END ....classifier__n_neighbors=5;, score=0.543 total time=   0.1s\n",
      "[CV 1/7; 1/3] START classifier__n_neighbors=5...................................\n",
      "[CV 5/7; 2/3] END ...classifier__n_neighbors=10;, score=0.534 total time=   0.1s\n",
      "[CV 2/7; 2/3] END ...classifier__n_neighbors=10;, score=0.574 total time=   0.1s\n",
      "[CV 4/7; 2/3] END ...classifier__n_neighbors=10;, score=0.658 total time=   0.1s\n",
      "[CV 3/7; 2/3] END ...classifier__n_neighbors=10;, score=0.456 total time=   0.2s\n",
      "[CV 3/7; 1/3] START classifier__n_neighbors=5...................................\n",
      "[CV 1/7; 2/3] START classifier__n_neighbors=10..................................\n",
      "[CV 6/7; 2/3] END ...classifier__n_neighbors=10;, score=0.250 total time=   0.1s\n",
      "[CV 2/7; 3/3] END ...classifier__n_neighbors=15;, score=0.580 total time=   0.1s\n",
      "[CV 4/7; 3/3] START classifier__n_neighbors=15..................................\n",
      "[CV 1/7; 3/3] START classifier__n_neighbors=15..................................\n",
      "[CV 3/7; 3/3] START classifier__n_neighbors=15..................................\n",
      "[CV 5/7; 3/3] START classifier__n_neighbors=15..................................\n",
      "[CV 6/7; 3/3] START classifier__n_neighbors=15..................................\n",
      "[CV 1/7; 1/3] END ....classifier__n_neighbors=5;, score=0.423 total time=   0.1s\n",
      "[CV 6/7; 1/3] END ....classifier__n_neighbors=5;, score=0.254 total time=   0.1s\n",
      "[CV 7/7; 3/3] START classifier__n_neighbors=15..................................\n",
      "[CV 3/7; 1/3] END ....classifier__n_neighbors=5;, score=0.435 total time=   0.1s\n",
      "[CV 7/7; 3/3] END ...classifier__n_neighbors=15;, score=0.198 total time=   0.0s\n",
      "[CV 4/7; 1/3] END ....classifier__n_neighbors=5;, score=0.649 total time=   0.2s\n",
      "[CV 5/7; 1/3] END ....classifier__n_neighbors=5;, score=0.410 total time=   0.2s\n",
      "[CV 4/7; 3/3] END ...classifier__n_neighbors=15;, score=0.606 total time=   0.1s\n",
      "[CV 1/7; 2/3] END ...classifier__n_neighbors=10;, score=0.474 total time=   0.2s\n",
      "[CV 1/7; 3/3] END ...classifier__n_neighbors=15;, score=0.470 total time=   0.1s\n",
      "[CV 5/7; 3/3] END ...classifier__n_neighbors=15;, score=0.540 total time=   0.1s\n",
      "[CV 3/7; 3/3] END ...classifier__n_neighbors=15;, score=0.456 total time=   0.2s\n",
      "[CV 6/7; 3/3] END ...classifier__n_neighbors=15;, score=0.242 total time=   0.2s\n",
      "Best Parameters: {'classifier__n_neighbors': 10}\n"
     ]
    }
   ],
   "source": [
    "param_grid = { # Hyperparameter search space\n",
    "    'classifier__n_neighbors': [5, 10, 15],\n",
    "}\n",
    "\n",
    "clf = GridSearchCV(\n",
    "    KNNClassifier,\n",
    "    param_grid=param_grid,  # Hyperparameter search space\n",
    "    cv=LeaveOneGroupOut(),  # Subject-wise cross-validation\n",
    "    scoring='f1_macro',     # Scoring with macro F1 score\n",
    "    n_jobs=-1,              # Enable multiprocessing\n",
    "    verbose=10,             # Print processing logs\n",
    "    refit=False,           # Do not refit the cls with best params\n",
    ")\n",
    "clf.fit(X_features, Y, groups=Subjects)\n",
    "print(f'Best Parameters: {clf.best_params_}')"
   ]
  },
  {
   "cell_type": "code",
   "execution_count": null,
   "metadata": {
    "id": "d17AilLiw6L0"
   },
   "outputs": [],
   "source": []
  }
 ],
 "metadata": {
  "colab": {
   "collapsed_sections": [],
   "name": "CrossValidation.ipynb",
   "provenance": []
  },
  "kernelspec": {
   "display_name": "Python 3 (ipykernel)",
   "language": "python",
   "name": "python3"
  },
  "language_info": {
   "codemirror_mode": {
    "name": "ipython",
    "version": 3
   },
   "file_extension": ".py",
   "mimetype": "text/x-python",
   "name": "python",
   "nbconvert_exporter": "python",
   "pygments_lexer": "ipython3",
   "version": "3.11.4"
  }
 },
 "nbformat": 4,
 "nbformat_minor": 4
}
