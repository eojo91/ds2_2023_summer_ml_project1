{
  "nbformat": 4,
  "nbformat_minor": 0,
  "metadata": {
    "colab": {
      "provenance": [],
      "toc_visible": true,
      "include_colab_link": true
    },
    "kernelspec": {
      "name": "python3",
      "display_name": "Python 3"
    },
    "language_info": {
      "name": "python"
    }
  },
  "cells": [
    {
      "cell_type": "markdown",
      "metadata": {
        "id": "view-in-github",
        "colab_type": "text"
      },
      "source": [
        "<a href=\"https://colab.research.google.com/github/eojo91/ds2_2023_summer_ml_project1/blob/eunok.jo/DataMining_HW.ipynb\" target=\"_parent\"><img src=\"https://colab.research.google.com/assets/colab-badge.svg\" alt=\"Open In Colab\"/></a>"
      ]
    },
    {
      "cell_type": "markdown",
      "source": [
        "### 데이터과학 HW"
      ],
      "metadata": {
        "id": "y0UWPqyuLXu_"
      }
    },
    {
      "cell_type": "code",
      "execution_count": null,
      "metadata": {
        "id": "xhPf6P5WKSP4"
      },
      "outputs": [],
      "source": [
        "import numpy as np\n",
        "import pandas as pd\n",
        "import matplotlib.pyplot as plt\n",
        "\n",
        "from scipy.stats import uniform, norm, binom, chi2\n",
        "from scipy.stats import t\n",
        "from sklearn.model_selection import train_test_split\n",
        "from collections import Counter"
      ]
    },
    {
      "cell_type": "markdown",
      "source": [
        "####1.기댓값 계산"
      ],
      "metadata": {
        "id": "jpasSNC7CT0h"
      }
    },
    {
      "cell_type": "markdown",
      "source": [
        "####2.조건부 확률 계산"
      ],
      "metadata": {
        "id": "yK-0nppjCUEz"
      }
    },
    {
      "cell_type": "markdown",
      "source": [
        "#### 3.임의 표본 추정\n",
        "\n",
        "각각의 분포에서 표본을 1000개 생성하고, 이 데이터를 이용하여 왜도(skewness), 첨도(kurtosis)를 추정하시오.\n",
        "\n",
        "표본 평균 $\\bar{x} = {1\\over{n}}\\sum_{i=1}^n x_i$\n",
        "\n",
        "표본 분산 $s^2 = {1\\over{n-1}}\\sum_{i=1}^n (x_i - \\bar{x})^2$\n",
        "\n",
        "표본 왜도 = ${1\\over{n-1}}\\sum_{i=1}^n({{x_i-\\bar{x}}\\over{s}})^3$\n",
        "\n",
        "표본 첨도 = ${1\\over{n-1}}\\sum_{i=1}^n({{x_i-\\bar{x}}\\over{s}})^4$\n",
        "\n",
        "---\n"
      ],
      "metadata": {
        "id": "Y1TLemSALafw"
      }
    },
    {
      "cell_type": "markdown",
      "source": [
        "#####(a) 왜도(Skewness)\n",
        "\n",
        "왜도(skewness): 분포가 한쪽으로 치우친 정도를 측정하는 통계량\n",
        "\n",
        "i. **N(0,2)** 과 𝒳(**5**) 표본을 생성한 후, 분포를 그리시오.\n",
        "\n",
        "ii. 각 분포에서 왜도를 구하시오."
      ],
      "metadata": {
        "id": "KaflXi1WHUXU"
      }
    },
    {
      "cell_type": "code",
      "source": [
        "import numpy as np\n",
        "import matplotlib.pyplot as plt\n",
        "\n",
        "from scipy.stats import norm, chi2\n",
        "from scipy.stats import skew\n",
        "\n",
        "\n",
        "normal_sample = norm.rvs(loc = 0, scale= 2, size=1000)\n",
        "chi_sample = chi2.rvs(5, size=500)\n",
        "\n",
        "fig, (ax1, ax2) = plt.subplots(1, 2, figsize=(8,4))\n",
        "ax1.hist(x=normal_sample, bins='auto', alpha=0.7)\n",
        "ax1.set_title('N(0,2) sample')\n",
        "ax1.set_ylim([0,120])\n",
        "\n",
        "ax2.hist(x=chi_sample, bins='auto', alpha=0.7)\n",
        "ax2.set_title('chi(5) sample')\n",
        "ax2.set_ylim([0,120])\n",
        "fig.show()\n",
        "\n",
        "print(f'N(0,2)의 왜도: {skew(normal_sample)}')\n",
        "print(f'chi(5)의 왜도: {skew(chi_sample)}')"
      ],
      "metadata": {
        "colab": {
          "base_uri": "https://localhost:8080/",
          "height": 427
        },
        "id": "yf880S75HZBi",
        "outputId": "53099dc3-6c9d-4709-8753-09a684b5d58a"
      },
      "execution_count": null,
      "outputs": [
        {
          "output_type": "stream",
          "name": "stdout",
          "text": [
            "N(0,2)의 왜도: -0.016287629958926988\n",
            "chi(5)의 왜도: 1.3285760176978292\n"
          ]
        },
        {
          "output_type": "display_data",
          "data": {
            "text/plain": [
              "<Figure size 800x400 with 2 Axes>"
            ],
            "image/png": "[encoded data removed]"
          },
          "metadata": {}
        }
      ]
    },
    {
      "cell_type": "markdown",
      "source": [
        "#####(b) 첨도\n",
        "\n",
        "첨도(Kurtosis): 이상치가 얼마나 존재하는지를 측정하는 통계량\n",
        "\n",
        "i. 자유도가 1인 t분포, 자유도가 10인 t분포와 표준정규분포(N(0,1))에서 표본을 생성한 후, 분포를 그리시오.\n",
        "\n",
        "ii. 각 분포에서 첨도를 구하시오."
      ],
      "metadata": {
        "id": "JLDnrTvHVmkq"
      }
    },
    {
      "cell_type": "code",
      "source": [
        "import numpy as np\n",
        "import matplotlib.pyplot as plt\n",
        "\n",
        "from scipy.stats import kurtosis\n",
        "from scipy.stats import t, norm\n",
        "\n",
        "t_sample_1 = t.rvs(df=1, size=1000)\n",
        "t_sample_10 = t.rvs(df=10, size=1000)\n",
        "snormal_sample = norm.rvs(loc=0, scale=1, size=1000) # 정규분포\n",
        "\n",
        "fig, (ax1, ax2, ax3) = plt.subplots(1, 3, figsize=(15, 5))\n",
        "\n",
        "ax1.set_xlim(-20, 20)\n",
        "ax1.set_ylim(0, 150)\n",
        "ax1.hist(t_sample_1, bins='auto', alpha=0.7)\n",
        "ax1.set_title(r'df=1 $t$-distribution')\n",
        "\n",
        "ax2.set_xlim(-5, 5)\n",
        "ax2.set_ylim(0, 150)\n",
        "ax2.hist(t_sample_10, bins='auto', alpha=0.7)\n",
        "ax2.set_title(r'df=10 $t$-distribution')\n",
        "\n",
        "ax3.set_ylim(0, 150)\n",
        "ax3.hist(snormal_sample, bins='auto', alpha=0.7)\n",
        "ax3.set_title(r'N(0,1) normal distribution')\n",
        "\n",
        "fig.show()\n",
        "\n",
        "print(r'df=1 t-distribution kurtosis:', kurtosis(t_sample_1))\n",
        "print(r'df=10 t-distribution kurtosis:', kurtosis(t_sample_10))\n",
        "print(r'N(0,1) normal distribution kurtosis:', kurtosis(snormal_sample))"
      ],
      "metadata": {
        "colab": {
          "base_uri": "https://localhost:8080/",
          "height": 468
        },
        "id": "lDW_q1u2XwkS",
        "outputId": "b36f06f3-d842-45ae-ccb5-2be6714abc98"
      },
      "execution_count": null,
      "outputs": [
        {
          "output_type": "display_data",
          "data": {
            "text/plain": [
              "<Figure size 1500x500 with 3 Axes>"
            ],
            "image/png": "[encoded data removed]"
          },
          "metadata": {}
        }
      ]
    },
    {
      "cell_type": "markdown",
      "source": [
        "#### 4.랜덤워크\n",
        "\n",
        "$X_i \\overset{i.i.d}{\\sim} U(-1, 1)$ 일 때, $S_n = X_1 + \\cdots + X_n$ 인 랜덤워크에 대해서 고려하자.\n",
        "\n",
        "독립적으로 생성된 두 개의 랜덤워크 $\\{S_n : n = 1, \\cdots , 10000\\}$ 과 $\\{S_n' : n = 1, \\cdots , 10000\\}$ 의 상관계수를 구하시오."
      ],
      "metadata": {
        "id": "dS42VnhrOXkW"
      }
    },
    {
      "cell_type": "code",
      "source": [
        "import numpy as np\n",
        "from scipy.stats import uniform\n",
        "\n",
        "\n",
        "uniform_sample1 = uniform.rvs(loc = -1, scale = 2, size = 10000)\n",
        "uniform_sample2 = uniform.rvs(loc = -1, scale = 2, size = 10000)\n",
        "\n",
        "random_walk1 = np.array([])\n",
        "random_walk2 = np.array([])\n",
        "\n",
        "for i in range(10000):\n",
        "  random_walk1 = np.append(random_walk1, uniform_sample1[0:i+1].sum())\n",
        "  random_walk2 = np.append(random_walk2, uniform_sample2[0:i+1].sum())\n",
        "\n",
        "np.corrcoef(random_walk1, random_walk2)"
      ],
      "metadata": {
        "id": "hVOx_AtfN3tu",
        "colab": {
          "base_uri": "https://localhost:8080/"
        },
        "outputId": "51cfad7f-2727-425e-a896-e7efe91d96a2"
      },
      "execution_count": null,
      "outputs": [
        {
          "output_type": "execute_result",
          "data": {
            "text/plain": [
              "array([[ 1.        , -0.70621898],\n",
              "       [-0.70621898,  1.        ]])"
            ]
          },
          "metadata": {},
          "execution_count": 25
        }
      ]
    },
    {
      "cell_type": "markdown",
      "source": [
        "#### 5.모비율 검정\n",
        "\n",
        "로또는 45개의 숫자 중에서 6개의 당첨 번호를 추첨한다. 10번의 모의실험을 통해 당첨번호를 추출 한 후, 각 번호가 나올 확률이 동일한지를 검정하려고 한다. 다음의 절차를 따르시오.\n",
        "\n",
        "(이 때 i번째 공이 당첨번호에 포함될 확률을 $p_i$라고 하자.)\n",
        "\n",
        "---\n"
      ],
      "metadata": {
        "id": "cfACX_YCPQhN"
      }
    },
    {
      "cell_type": "markdown",
      "source": [
        "(a) 각 번호가 나올 확률이 동일하다고 가정하고 로또 당첨 번호를 10회 추출하시오."
      ],
      "metadata": {
        "id": "OR9PTe-hcLAy"
      }
    },
    {
      "cell_type": "code",
      "source": [],
      "metadata": {
        "id": "WcoUzoTfdLWS"
      },
      "execution_count": null,
      "outputs": []
    },
    {
      "cell_type": "markdown",
      "source": [
        "(b) 10개의 표본을 통해 각 i번째 공이 당첨 번호에 포함 될 확률 $\\hat{p}_i$ 를 추정하시오."
      ],
      "metadata": {
        "id": "UoeO3PJBcL3D"
      }
    },
    {
      "cell_type": "code",
      "source": [],
      "metadata": {
        "id": "gX6C-eirdLsB"
      },
      "execution_count": null,
      "outputs": []
    },
    {
      "cell_type": "markdown",
      "source": [
        "(c) 각 i에 대해 다음의 검정을 시행하시오. p-value가 0.05보다 작은 경우는 몇 개 있는가?\n",
        "\n",
        "> $H_0 : p_i = 6/45$ vs $H_1 : p_i > 6/45$"
      ],
      "metadata": {
        "id": "Lou6ISJVcVpD"
      }
    },
    {
      "cell_type": "code",
      "source": [],
      "metadata": {
        "id": "Sl_6390hdMD6"
      },
      "execution_count": null,
      "outputs": []
    },
    {
      "cell_type": "markdown",
      "source": [
        "(d) 본페르니 교정을 이용하여, 다중 검정을 시행하시오. p-value가 0.05/45보다 작은 경우는 몇 개 있는가?\n",
        "\n",
        "> $H_0 : p_i = 6/45, ∀i$ vs $H_1$ : 어떤 i에 대해서 $p_i > 6/45$ 을 만족한다."
      ],
      "metadata": {
        "id": "rCftBGdkctcy"
      }
    },
    {
      "cell_type": "code",
      "source": [],
      "metadata": {
        "id": "q1DPQ4oWdMVj"
      },
      "execution_count": null,
      "outputs": []
    },
    {
      "cell_type": "markdown",
      "source": [
        "#### 6.p-value 계산\n",
        "스웨인 대 알리바마 재판에서 귀무 가설은 '공정한 배심원 선택' 이고 대립가설은 '불공정한 배심원 선택'이다. 전체 인구 중 26%가 흑인이다. 우리는 100명을 뽑았을 때, 8명의 흑인이 선택되었다는 데이터를 관찰하였다. 이 경우 p-value를 구하여라.\n",
        "\n",
        "(hint: 이항분포의 누적분포함수 또는 확률질량함수를 이용하시오.)"
      ],
      "metadata": {
        "id": "vQCP2VgFPRpG"
      }
    },
    {
      "cell_type": "code",
      "source": [
        "from scipy.stats import uniform\n",
        "\n",
        "H1 = 0\n",
        "for i in range(8):\n",
        "  H1 += binom.pmf(k=i, n=100, p=0.26)\n",
        "#print(binom.cdf(k=8, n = 100, p=0.26))\n",
        "\n",
        "print(f'p-value: {H1}')"
      ],
      "metadata": {
        "colab": {
          "base_uri": "https://localhost:8080/"
        },
        "id": "rB4owbf-Pp-9",
        "outputId": "183e64c9-e705-4f02-a263-aacd7020cbb0"
      },
      "execution_count": null,
      "outputs": [
        {
          "output_type": "stream",
          "name": "stdout",
          "text": [
            "4.73479499788932e-06\n",
            "유의 확률: 1.1138400559927344e-06\n"
          ]
        }
      ]
    },
    {
      "cell_type": "markdown",
      "source": [
        "####7.분산이 같기 위한 필요조건\n",
        "\n",
        "아빠의 키 $Y_i$, 자식의 키 $X_i$의 관계를 $Y_i = βX_i + ϵ_i$라고 하자. (단 $X_i$ 와 $ϵ_i$는 독립이다.)\n",
        "\n",
        "$Y_i$의 분산과 $X_i$의 분산이 같기 위한 필요조건이 $|β| < 1$ 임을 보이시오."
      ],
      "metadata": {
        "id": "aeFpj31OCLD5"
      }
    },
    {
      "cell_type": "markdown",
      "source": [
        "####8.예측 구간 추정\n",
        "\n",
        "다음의 데이터가 주어졌다고 하자. 이 때, 설명 변수를 $(x_1,x_2)$, 반응 변수를 $y$로 하는 선형회귀모형을 가정하고 $(x_1,x_2) = (0.1,0.2)$일 때, Bootstrap resampling을 통한 예측구간(prediction interval)을 추정하고자 한다.\n",
        "\n",
        "다음의 식을 만족하는 $[L, U]$을 $x_{new}$일 때, 신뢰도가 $(1-α)%$인 예측 구간이라고 한다.\n",
        "\n",
        "\n",
        "\n",
        "> $P(L \\le x_{new}^T \\hat{β} + ϵ ≤ U) = 1 - \\alpha$\n",
        "\n"
      ],
      "metadata": {
        "id": "MIinRnO5CiJq"
      }
    },
    {
      "cell_type": "markdown",
      "source": [
        "|#|1|2|3|4|5|6|7|8|9|10\n",
        "|---|---|---|---|---|---|---|---|---|---|---|\n",
        "|$y$|5.|7.9|11.2|11.7|8.9|6.8|8.4|8.8|10.1|7.5|\n",
        "|$x_1$|1.|1.1|1.5|3.|2.4|1.2|2.4|2.9|1.3|2.|\n",
        "|$x_2$|0.5|2.1|3.|1.5|1.7|1.2|0.2|0.9|2.3|1.|"
      ],
      "metadata": {
        "id": "u7rRk7jscqCZ"
      }
    },
    {
      "cell_type": "markdown",
      "source": [
        "#####(a) Bootstrap resampling을 이용하여 bootstrap sample을 얻고 이를 이용하여 선형회귀모형의 계수를 추정하시오."
      ],
      "metadata": {
        "id": "K6-GACc8aSf5"
      }
    },
    {
      "cell_type": "code",
      "source": [
        "import pandas as pd\n",
        "import numpy as np\n",
        "import statsmodels.api as sm\n",
        "\n",
        "x1 = np.array([1.,1.1,1.5,3.,2.4,1.2,2.4,2.9,1.3,2.])\n",
        "x2 = np.array([0.5,2.1,3.,1.5,1.7,1.2,0.2,0.9,2.3,1.])\n",
        "y = np.array([5.,7.9,11.2,11.7,8.9,6.8,8.4,8.8,10.1,7.5])"
      ],
      "metadata": {
        "id": "ufyo-1-nagFz"
      },
      "execution_count": 1,
      "outputs": []
    },
    {
      "cell_type": "code",
      "source": [
        "def bootstrap_sampling():\n",
        "  rand_idx = np.random.choice(10, 10, replace=True)\n",
        "  boots_x = np.array([x1[rand_idx], x2[rand_idx]]).T\n",
        "  boots_y = y[rand_idx]\n",
        "\n",
        "  boots_x = sm.add_constant(boots_x, has_constant = 'add')\n",
        "  model = sm.OLS(boots_y, boots_x)\n",
        "\n",
        "  return model.fit()"
      ],
      "metadata": {
        "id": "K0BnaXM2a9ZS"
      },
      "execution_count": 2,
      "outputs": []
    },
    {
      "cell_type": "code",
      "source": [
        "result = bootstrap_sampling()\n",
        "print(result.params)"
      ],
      "metadata": {
        "id": "jnzuPLRIbR4B",
        "outputId": "103c04a1-4e1d-4a41-dc69-85a41c0f4f56",
        "colab": {
          "base_uri": "https://localhost:8080/"
        }
      },
      "execution_count": 7,
      "outputs": [
        {
          "output_type": "stream",
          "name": "stdout",
          "text": [
            "[1.57005894 2.58403318 1.86679998]\n"
          ]
        }
      ]
    },
    {
      "cell_type": "markdown",
      "source": [
        "#####(b) 위에서 추정한 모형을 이용하여 $(x_1, x_2) = (0.1, 0.2)$"
      ],
      "metadata": {
        "id": "uXzqJtlYj9FL"
      }
    },
    {
      "cell_type": "code",
      "source": [
        "pred = result.predict([1, 0.1, 0.2])\n",
        "print(pred)"
      ],
      "metadata": {
        "id": "CZgp9-_9mT6i"
      },
      "execution_count": 13,
      "outputs": []
    },
    {
      "cell_type": "markdown",
      "source": [
        "#####(c) 위에서 추정한 모형과 bootstrap sample들을 이용하여 잔차들을 구하고, 그 잔차들 중 하나의 값을 랜덤 추출하시오."
      ],
      "metadata": {
        "id": "e8cizuaRJCml"
      }
    },
    {
      "cell_type": "code",
      "source": [
        "res = np.random.choice(result.resid, 1)\n",
        "print(res)"
      ],
      "metadata": {
        "id": "YZhkYjQYJ8wl",
        "outputId": "452d7a8c-fd31-4c21-9fe1-0375520a994b",
        "colab": {
          "base_uri": "https://localhost:8080/"
        }
      },
      "execution_count": 12,
      "outputs": [
        {
          "output_type": "stream",
          "name": "stdout",
          "text": [
            "[0.25490143]\n"
          ]
        }
      ]
    },
    {
      "cell_type": "markdown",
      "source": [
        "#####(d) (b)에서 추정한 예측값과 (c)에서 생성된 노이즈를 더한 값을 저장하시오."
      ],
      "metadata": {
        "id": "r616JQeHea1N"
      }
    },
    {
      "cell_type": "code",
      "source": [
        "print(pred + res)"
      ],
      "metadata": {
        "id": "pu5gTn5Tf7o2",
        "outputId": "fe46d479-d427-47b9-df57-5d20c7cd8689",
        "colab": {
          "base_uri": "https://localhost:8080/"
        }
      },
      "execution_count": 14,
      "outputs": [
        {
          "output_type": "stream",
          "name": "stdout",
          "text": [
            "[2.45672369]\n"
          ]
        }
      ]
    },
    {
      "cell_type": "markdown",
      "source": [
        "#####(e) (a) - (d) 의 과정을 2000번 반복하시오.\n"
      ],
      "metadata": {
        "id": "pEVuctloeijt"
      }
    },
    {
      "cell_type": "code",
      "source": [
        "def iter2000():\n",
        "  X = []\n",
        "  for _ in range(2000):\n",
        "    result = bootstrap_sampling()\n",
        "    pred = result.predict([1, 0.1, 0.2])\n",
        "    res = np.random.choice(result.resid, 1)\n",
        "    X.append((pred+res)[0])\n",
        "  return X\n",
        "\n",
        "\n",
        "X = iter2000()"
      ],
      "metadata": {
        "id": "tClgTcuQgO6O",
        "outputId": "8103a474-99aa-4ca6-81b7-e42233559f75",
        "colab": {
          "base_uri": "https://localhost:8080/"
        }
      },
      "execution_count": 20,
      "outputs": [
        {
          "output_type": "stream",
          "name": "stdout",
          "text": [
            "[2.2140426707644294, 2.4864872323112404, 2.300720922313567, 0.8112282078958548, 2.9705217756616906, 2.2092389147906975, 3.581722455589157, 2.6807352581645, 2.2556163074369318, 2.728623756591016, 1.4780727687588926, 1.8582465291909553, 2.8937875158138326, 2.4376603106987904, 2.9267017705052556, 2.819279517986681, 1.2989838938111427, 0.7497608697508884, 2.9097787110080526, 2.257067949813372, 4.342789508297214, 2.2766079915507826, 3.752059282502451, 4.306936065260135, 3.648723887222948, 3.445386629892967, 4.171817768171989, 1.925188725769126, 5.365238748000901, 2.7053931200466392, 2.6157195570446676, 3.076556122448979, 3.548945139738397, 3.277801949941789, 1.8396547983035823, 1.1575876972084895, 5.049545296919337, 2.3158124669037, 3.9718906860011183, 2.9646970523303184, 4.67087089373045, 2.5228132992327357, 2.1822293687411416, 1.075790646199032, 2.5028294345271185, 2.955393037619312, 2.9636526087608672, 3.7867499944105902, 2.791699470122814, 4.394969745340486, 3.5907603232454792, 5.098425891292798, 2.6433782403579595, 3.424529244978398, 2.9659732068252858, 3.8982312343154875, 3.8272453251465315, 3.205036401969463, 2.4282891300903477, 3.3682152705378714, 3.212765102597219, 3.1441453956543226, 1.7720540798439934, 4.0064941989971885, 3.812112307537484, 7.743093789045179, 5.637381382925377, 2.8760604791167985, 3.949046153072697, 2.138871331208094, 2.029221600554849, 2.963134225479975, 2.8374003225685467, 1.3460301324427926, 2.1201967034491624, 2.215135547863388, 4.4875429337294745, 2.8332432515149644, 3.0959004532888286, 2.1468136474678308, 4.091344630687047, 3.18360073735236, 2.8221899359143072, 2.681727461659741, 2.260765069194113, 3.6738419289392557, 3.4562959871944874, 3.0969707894058303, 3.7687252187159657, 2.8699163866716466, 2.519710779851431, 2.7699664159774287, 1.7139721364640175, 2.77442924593807, 3.676963592321646, 2.959289547303768, 2.410790265496715, 2.5723471088170715, 2.5140187387296495, 2.6392526245309944, 2.024350957851351, 3.1554304004526665, 3.567162977000173, 2.5401891587740284, 3.7129252730069817, 3.635600428529692, 4.2569670124304215, 2.786477091350627, 1.6657375934738288, 3.678521336015122, 3.0758089141962013, 3.87313759348247, 2.7151980731080174, 4.853041360684591, 3.2115547200487753, 2.4674991816089027, 2.9655411644173473, 3.8472932005196974, 2.0382692307692327, 1.9647153114594214, 3.0563845521774855, 2.057681983576249, 1.7081522819821955, 1.4546952302869225, 2.567553481025959, 2.672646900905444, 2.1333333333333293, 2.425173276205172, 5.132015628591127, 1.7720966148143842, 3.165299258193227, 2.7136733939998194, 0.6704838906803867, 0.0224203654972841, 3.538864189689853, 3.5352698127428432, 2.358663435630053, 6.982766347884397, 3.0215174648187624, 0.8497887995790951, 3.268005938824191, 2.908967148390928, 2.556911551004344, 2.6521319820093643, 4.0838046479456995, 2.324315553672882, 3.2816359064382854, 2.2230680924271407, 2.035092597486617, 2.287150256574581, 2.617584395949791, 3.0843332915951396, 2.732786196826417, 3.150856862199656, 2.945417953732305, 2.4777523687760867, 3.6470253596400273, 3.7286748605178417, 1.2773967046859998, 3.2955750793232497, 4.099087359809024, 4.080922291354316, 2.4140481180126754, 2.5002341822560123, 8.117291547165882, 4.724445379741104, 2.82571929519143, 4.540554409533389, 4.041170818539399, 4.7146886789829345, 3.913031111860641, 2.7538328530259353, 0.7628956281387519, 4.0593421173437765, 3.674005779745768, 3.029508162244408, 3.729240384870657, 2.230122788745911, 2.3141228370089846, 2.4968726184277235, 3.1115434322760396, 2.0701855843933283, 5.313921731284448, 2.237906659333045, 2.244584278570342, 2.035150921531147, 1.176188845290212, 4.117974424096592, 1.1385798717122806, 2.5471989388943137, 4.218245359584024, 3.82895891303803, 1.2861513067400345, 2.510644376899694, 5.937566955357733, 2.5342010339412835, 0.8029694643217923, 3.4099424628651325, 2.8828478260869574, 4.069249848317162, 3.1576214311524216, 2.427049840641646, 4.9589979551903065, 2.312068123818581, 2.90131223234584, 3.0918482241717027, 4.925773564146345, 2.371715713962247, 3.462434853792215, 3.7079888162505568, 1.4068862988919193, 2.6678607436715427, 4.585632338530244, 2.82993975485815, 1.8185654675350067, 2.8772774859365517, 5.266041176023704, 3.396258189040636, 4.062567872111872, 6.378951799621128, 3.456062528819914, 2.2483739380372345, 2.9176224424852997, 1.9689847715735964, 1.2886379592791921, 5.7661846652322, 3.8681359810550564, 3.3607717041800598, 3.9498897637795296, 1.9056116716540772, 2.713664118950745, 4.1521057218065875, 4.970671740084893, 1.4503968253968358, 4.099961501360423, 3.3738206228775884, 3.9333622227972067, 1.5102199401657552, 3.6110850470456404, 2.1020800307810705, 2.807432535947993, 2.3912688624492158, 2.2064034833091424, 2.7223733816797253, 3.9438931752094724, 2.5263274412732937, 0.35172827205463375, 2.900662407630937, 2.898275475923851, 2.8188670757229697, 2.7322579925982082, 1.5006264337391917, 2.0351193971884474, 1.4750316111510688, 3.682043998793514, 2.4272134492949644, 2.616253985706431, 1.4511395346777025, 2.3362727272727217, 3.7268998014070998, 1.565929531861315, 2.1508983932996193, 2.1538095423867776, 3.9479390952028033, 3.2472187442131513, 1.9179231711865317, 3.223418367346938, 1.3995869439833388, 3.4999903023005525, 3.8112679458407843, 3.5365465862547163, 3.0179624181086013, 3.015315612061551, 3.450998061364074, 2.82869995209367, 2.7792720862712548, 2.0018108682300046, 2.7222630418809666, 2.58892620962043, 4.335867924433679, 2.589762911229555, 2.2876855755638834, 2.9838510384839694, 2.5333805449031823, 2.0499617257111393, 3.5019235987147406, 2.120147016776195, 2.224716530742038, 2.459434982564309, 1.3910630500477152, 4.1113814285073875, 3.108954012497364, 2.245792811524506, 1.456967607625907, 2.4649243409088575, 2.201241082141056, 2.2978411854708174, 2.664865674163326, 2.488069697705258, 1.9846296868243853, 3.2602100647863415, 2.6914062674766877, 3.1169409923781233, 0.9708495790597924, 2.4997490580791966, 4.164344097154302, 3.872114137483772, 2.8151174032530815, 2.240219019807013, 2.9958233277472446, 3.0252531237245077, 1.3138914216676283, 3.453846289007589, 2.5277859937712592, 2.413870148207052, 4.097276217293013, 2.7274642175572485, 5.581330745611499, 4.239382361489911, 4.322906970280281, 2.390799063911409, 4.5433355855054725, 3.200796910258328, 2.5678108903560055, 5.328056110590044, 2.0354137053655075, 5.093359517699588, 2.4813718844509323, 2.903499143566255, 3.528746864338269, 3.1515408587257614, 3.0409941324682874, 2.310257238953958, 2.5644335446823847, 2.354238752762506, 4.5228839326091315, 2.8329925426089044, 2.4601864697241766, 1.8628412646585284, 2.9968474585822156, 3.5189160086144957, 2.2449872594675373, 3.0055350312224136, 3.2118672434661244, 2.421988012322527, 2.6570872650946193, 2.0807500000000028, 2.370188457994804, 2.3311331120778567, 3.3628663126874607, 4.677026413541903, 3.4985171643306945, 3.9781299551115463, 2.2411662975851536, 4.07783800526561, 2.673820082356672, 4.038081961409077, 3.1675221709101384, 1.9903369794143617, 2.069422638182451, 1.8697329506761386, 3.4707674275458933, 2.872544683272545, 2.1622601874903764, 3.938221209468916, 4.886689022176215, 2.9157441844507015, 1.6373994081533523, 2.7479861317483896, 3.751803722977451, 3.1137565074261238, 2.8882194189217203, 1.8591076297643596, 2.744825758992582, 2.6325174961484628, 3.7535795065273856, 3.6046241935483874, 3.117192693134212, 2.736863118538924, 2.7418732400031387, 3.6822781456953613, 4.546777490888277, 3.160145052844975, 3.854096468336566, 3.0981083817413455, 3.4173752649721956, 5.1470494782439715, 2.8887257270200415, 2.630859388022384, 2.754994466789196, 4.054464789192597, 3.453595556297201, 3.7873739452562205, 2.4382216592898622, 1.747210995504556, 2.4641783382623763, 2.9534082771984496, -0.4149795201872301, 1.4341188720542295, 1.5795983961303395, 3.988091038766669, 3.234663007286602, 2.043631390721634, 2.4877087767954156, 3.3426637415754215, 2.4478952120165958, 2.208601644446146, 2.4603756793250846, 2.061476708815675, 4.152452931906776, 2.976804539586917, 3.74419134661903, 0.810892250169956, 3.5581977900118424, 2.016253143336121, 3.259668543931035, 2.9938353211668303, 2.3833743959363902, 2.3375016787286365, 3.5305362662891997, 2.9558363366972826, 1.125808725240006, 2.0746014330497147, 2.9755366435385904, 5.239213479931755, 3.012933549609177, 5.655842558425584, 3.2263806386627683, 2.508743671376113, 2.6524523209611774, 5.5962536970095265, 3.656265581331856, 3.8595537251400946, 2.548761985546701, 3.8368487857163016, 1.7147328046516215, 1.3792836874064944, 2.0198089397036987, 2.755734633183947, 0.9726732521839274, 4.03627422828428, 3.0402909224820434, 4.397723261915456, 2.467003290280222, 2.3356293715888286, 3.5341367099354253, 1.4202173029295273, 2.2387259793644536, 1.6338950801848378, 5.644948199941377, 1.9592830720810956, 3.9840850583508054, 1.959714217808787, 2.8317088736249376, 2.4356991737606406, 3.2304141390161543, 1.6065639883762015, 2.0025612693910526, 3.016314483146183, 2.835699128816956, 2.748368940621768, 3.276561098257278, 2.7364064329225752, 2.8534333377279104, 2.219863287487552, 2.6250053152719857, -0.19517424493858898, 3.311504424778759, 1.970957520646195, 4.459923579573909, 2.8592701121350896, 4.580198595070847, 2.921826790426927, 1.2040778688524494, 3.414950769702758, 1.615156126742046, 2.6967526382509623, 3.0986590219308603, 6.547421597257482, 3.311232952916276, 3.0822274428196828, 3.297300209656413, 3.1745866686932054, 3.762036442992584, 2.9887842714086643, 5.255238480970953, 2.518609446221264, 1.669509717347422, 3.88537820115474, 3.2443650527661307, 3.834377877438084, 2.278124735969609, 2.3455499709961423, 3.2228557263262316, 1.2027736131934075, 3.1237740738753836, 3.6538802146009774, 5.686401067140949, 2.8084808264623113, 1.3398576888645182, 6.50568179174003, 1.0702378777056079, 3.3517819941614055, 3.7536266797554587, 3.9099334288794036, 2.0064095864834357, 5.685145248404322, 4.9681429469214375, 1.632754937940708, 1.6308891704762551, 4.42047092151992, 3.6838304552590224, 2.8825698803070763, 2.9897124022280614, 4.487465852367807, 2.3482251341839753, 0.994420338146361, 2.953101104502975, 2.3677962700101016, 3.0088587385503054, 2.0899267018854806, 3.0349056949276627, 0.4477752098284946, 4.193401021427508, 2.881440297129259, 2.6649034361554, 3.7153510768152307, 2.5858284357719823, 3.2799387300284386, 3.293477894217722, 3.091225592810479, 3.4118799128996025, 2.202785640376611, 2.9795566871349415, 3.2804877323233868, 3.4019817944250303, 2.3393864537441305, 3.66134492865542, 1.6625751030562106, 3.1501467057882233, 4.6344583020867685, 2.925506073832246, 3.051275032443703, 1.1471538814944053, 1.0244809035471016, 3.607504726176615, 6.715697937609007, 7.206275040824847, 2.498181818181823, 3.846961578869889, 2.239459338400355, 3.459536777271105, 3.116831728415213, 4.123563768074459, 3.2461517615176128, 2.1128489644560418, 2.3543461494654894, 2.888311675109704, 1.9445497681256985, 0.35552998729177654, 3.4444437467839606, 2.7469309687089503, 2.6022068717185043, 2.3858362238781154, 2.078547890488477, 3.6246379078961146, 1.680807636411962, 2.073712040128434, 2.3637541980575496, 1.2658796756226973, 2.658267504568548, 3.134261881268774, 2.038412358433206, 5.121044351297654, 3.281719641204505, 3.6364166949440038, 3.4366987994949207, 3.667445987683706, 3.1443622623701857, 3.711021336544944, 3.015914332077934, 0.42015617676207173, 3.382483273054092, 3.1335916620724076, 3.3681624403869557, 2.435766768549293, 2.2729053082422057, 2.5900028288543124, 0.9344935884248815, 1.9042437792580462, 2.819730519480518, 2.2955785817785026, 3.2127873298027954, 3.0888964911949546, 2.2743323886526197, 2.7420749328931584, 3.760249438999123, 2.581057182676269, 1.8688998134306978, 5.2678397181062495, 7.642301170674541, 0.2612253263823823, 0.7873649618816492, 1.4354160505444271, 2.4924605817198184, 6.9560351242744405, 2.5512630253560307, 2.1618027262878865, 2.101499258520443, 2.54022304567233, 3.8282818782653965, 0.4288108577626626, 1.4396760674358786, 1.3167783737969732, 2.882114622607225, 2.5073742875801477, 3.0011149438329743, 0.6813032634331289, 3.9645542920411065, 2.001073394495405, 2.052874584297727, 2.981367394869357, 3.650328580467635, 1.5593482579291496, 2.0610440386073874, 3.8021362309545124, 3.6949451309527537, 3.3790897403071414, 3.128560113583222, 3.318969155739707, 3.231448216052036, 3.1164565940988114, 4.255207025337245, 2.2379066593330488, 2.125327842927351, 2.822576572616732, 2.8011634277074604, 3.7372386013180168, 3.9533769219715533, 2.9126167233920524, 3.088266482465071, 4.108574994493804, 2.4904199342908524, 2.2024964201454824, 2.254019817889665, 3.170634855684208, 2.7937202609013654, 2.7802057043696378, 2.390156644585151, 2.770178453208745, 2.9945535114231396, 1.6898400028535576, 2.747138867339022, 2.4509977211038216, 2.648584868035186, 3.4791923032168435, 4.47799751378508, 4.4279037378990616, 4.736037902796198, 1.767331350895168, 2.1165248056093056, 3.302755787701069, 5.24173658243382, 1.4668721683775914, 2.210308073654393, 2.539115670172682, 2.6643476136178528, 5.442144021042141, 3.2346442749329283, 2.6245417853992747, 3.067937503961465, 2.445048888121061, 1.6090504995316874, 1.640725430683399, -0.6577774497632316, 2.799420983471904, 1.3353836906431518, 6.123990084410855, 2.3159689989965724, 2.2002641089429553, 1.3473612983594325, 2.2792403574097735, 2.12385964912281, 3.8478042363143423, 3.468755192496656, 3.170886834847799, 2.6904789364340855, 7.2723826545729, 4.036914384661045, 1.087673638831224, 5.810689689546521, 5.226666893060182, 3.448066511252627, 2.9165628357071536, 3.3241071896509533, 1.9918336506425525, 2.1097568534819264, 2.1715534237059266, 3.4906482673215606, 4.4457659768266335, 2.7133461725090178, 3.315196333578859, 2.566400074829941, 3.159783590521544, 4.802192602783018, 1.585354719229178, 1.8424599983127572, 3.764799713998744, 2.5357740831028828, 2.141011934361014, 3.099572548788399, 1.8077061170212798, 0.5874585664149572, 4.747918301017779, 3.043890876812186, 2.9504650874364406, 2.473871765017897, 2.5241783006500644, 3.982215413479799, 2.3347214409207013, 5.136291495336479, 5.437591245045065, 2.380212654284408, 1.9946922596411225, 4.100355268013689, 2.7419849988626295, 3.167337336835802, 2.3419700731947666, 3.9440477156923976, 2.3512539122328096, 2.8900997463099567, 2.4205929844098018, 4.775473421520485, 1.7496220678763486, 1.9973575840768647, 2.289341235102952, 1.7804562935025672, 1.9328939828080298, 1.860267468032033, 2.3243186800120754, 2.586809211532325, 3.726603415559771, 2.0929961839266684, 2.9828583106267037, 2.6715157850721285, 3.1961325602846338, 3.1088790003419655, 4.038383580212418, 3.9825886150425864, 2.4949467275494666, 2.1798242344195478, 2.9397710406674276, 2.774365074568578, 1.9016952613955609, 2.238501608643211, 1.0882297585227247, 3.5039739831170147, 3.8259975249672364, 4.799328439689653, 2.44130410239765, 3.5364167558043014, 2.098921525165196, 1.7450033540460388, 2.378903434750582, 3.015805188316352, 3.8208158239184327, 2.5404960195958344, 6.190757495121533, 1.4369378372976243, 3.416947211725637, 3.8814952048319227, 2.305413822710333, 2.60196491228069, 2.0747035952133093, 4.928912988602652, 4.197525668611666, 2.667245106411354, 4.741317751423451, 3.4425948865967695, 2.227348778262323, 3.171622626737132, 3.4394381357779236, 3.1153392772594715, 3.191892328240357, 2.4060538435855046, 2.2274012783035224, 1.934873402447855, 2.5919472520530613, 2.899830469143218, 3.2215904430990125, 3.496076939296298, 2.0662965981119767, 3.4778980432400934, 2.703450119456394, 2.2733132679273407, 3.130074407221972, 3.9943029717170377, 2.8119347503138625, 2.8218449883754144, 2.100908689162255, 1.206305146222772, 4.012136176854323, 4.845175070584664, 1.5503393592609394, 2.847234655760934, 3.454027397709876, 3.1473878401852913, 2.446360350572148, 3.5021272974812834, 2.0122795282836856, 2.72253373299459, 5.757896136168316, 2.894422698694187, 6.068956502491648, 2.9637971806288603, 4.013436033572714, 3.098501497156386, 1.7151425682246138, 1.9041065830720987, 1.4538139562459191, -0.10265292626474304, 5.215830326296228, 2.9279329074246916, 1.5027889223145396, 1.9127654588065583, 2.566202037523134, 2.7298432635057646, 2.538582475346447, 2.5208556192232177, 3.5624611833159445, 2.151149866414748, 0.03659567646789014, 2.292578977599081, 3.475774897404438, 5.223770683283655, 4.52873455759599, 2.978032916231088, 3.158864265927974, 2.1882064437459023, 1.7839438308742919, 1.5216488946684086, 2.3541924095322173, 3.1131796909356604, 4.174722744360903, 2.657653982160424, 2.530966494503552, 2.649368745315226, 2.7423014307003575, 3.0000863475007113, 2.628383950988761, 2.6604723948335884, 1.745069690361973, 0.6332891834840095, 3.1121361437706834, 5.080817142564211, 2.745790505558567, 4.2388375225275405, 2.9168487168465322, 2.701518569980934, 2.007551715015045, 1.5877543814659263, 2.1611700693184916, 2.7086054101675896, 3.4628760511217056, 1.878436923629148, 2.4652080123266664, 3.430217217301742, 3.098725166735574, 3.4093770720919205, 2.4622006329429835, 1.2151837184143426, 2.8488879005913863, 2.701511415997172, 2.184672001496697, 3.4564003375701016, 2.254489069466421, 3.8040843574602174, -0.0017789109351538102, 4.3543747693211134, 2.9571201794860995, 3.3164915852726082, 2.0969745532777972, 3.4356864210770945, 3.884579310267754, 5.664248677676704, 6.3398854679802925, 3.2569417396401983, 2.876947078617325, 2.791293334434122, 2.8753201470555183, 3.41290440229092, 2.8357105526125483, 4.413593882752751, 3.530043853131515, 2.666894247683522, 2.637779060395096, 1.1632862550961072, 2.3985124716874764, 2.1854061863253196, 4.608235479106657, 1.2619304866606953, 2.630846030834642, 4.12951222745845, 3.6907943450722867, 1.461833550065018, 2.379540906106364, 2.014369300651457, 3.337948381452316, 2.6472085601896467, 0.007213205395502076, 2.6369829639152025, 2.1944662081508657, 2.1611575268573113, 3.281772095808762, 7.056530408773688, 2.8845288875864297, 2.7750493769417557, 4.096103729264468, 2.4971103666430863, 2.6287652676580353, 2.3997414829054846, 1.3753496858593677, 2.7423045185206236, -0.39151436031331205, 2.5686656840828537, 2.4677195519001374, 1.091819137484117, 1.9991881354598222, 2.1523010466236876, 3.3565603183344255, 2.55955255279348, 2.211233685352969, 3.506307068264183, 5.60902192058436, 4.747795900774001, 1.9856716630834348, 3.4110419878511444, 3.7410473668600526, 3.2349601866457656, 4.034133361528158, 2.261430365917502, 1.8992503674242407, 3.5170784519236817, 3.191693721441017, 3.49625146567129, 2.385828542517831, 2.7463278620139935, 2.9188765242097756, 2.6211803502896696, 3.4619345976817693, 2.8524663359319624, 8.714367537791734, 2.900084209729544, 1.7698712748120493, 5.2769662578654195, 2.651893926684544, 1.6650199705696769, 2.9536458578383216, 3.4178053369879713, 1.458730395244027, 1.5825495428496374, 4.659220548828019, 4.882915225416557, 1.9485995449153024, 2.951999913341043, 2.462598272826811, 1.943027321035582, 2.803270460857974, 5.184230483373701, 0.3853807484639826, 2.3821424749489264, 3.56981788306176, 1.949169329073488, 2.7087758887790008, 1.6814024553452, 2.783465125957841, 1.2659930435594537, 2.6098521096275618, 2.7325393807713176, 2.156592093312301, 2.3666441681424595, 2.6170903646538157, 3.25770171823835, 4.004065776034224, 3.729796277825905, 2.6925772389000233, 1.834455176767673, 2.144020850967086, 3.267964268463235, 1.384268670604099, 2.374411366711776, 3.944808954464507, 2.108325489224671, 3.811839242716341, 1.9574924937903901, 2.0829897135763096, 3.5714799305765994, 1.8639518239558406, 3.1016291738121637, 1.9541180542735752, 1.7518845117851267, 11.322844338443195, 3.6320431223190903, 2.1119061453539083, 1.6362222260000312, 3.0527648497573683, 6.444197418800603, 2.935628041099629, 2.5248345323740975, 2.2357981606896358, 2.205216132211963, 2.5554791398434196, 3.390172073481022, 1.7675940723968728, 1.800645294493247, 1.6365994655294163, 3.6503869834285574, 1.833758916748243, 2.6443333345530466, 3.0578410596026457, 3.17463693406621, 3.901147778244648, 1.236925356025921, 3.2302685038721437, 3.044126207511, 3.165009692605924, 2.5185313452890408, 4.897796795673612, 1.720667638621745, 3.166241429321352, 2.489635270439976, 3.5282351982841806, 3.455214776963292, 2.650524112253486, 2.6143904978773564, 2.4560859532737185, 4.194659447619074, 3.886570918410852, 2.423050465778069, 4.536979004786472, 2.197347670403507, 2.5797783015670994, 2.735409830109309, 4.075726346444023, 3.7284366709246335, 2.59091486107072, 3.050952749405872, 2.7851450478879474, 3.27586678087779, 2.7884146561928604, 2.351782849695272, 2.666518705700883, 3.102506129752225, 2.8869162945412805, 2.773105978910306, 4.018027426494671, 1.2747471948299034, 1.632546916890087, 3.3942030789659277, 0.7734571069813594, 2.7935210481076136, -0.20360178506050552, 3.280198733481302, 1.8471290037082975, 3.8986027053272743, 2.6637938627318647, 2.337259221449102, 2.776950443061357, 1.891052269051078, 0.4432029148199004, 3.643242957000632, -0.5881818606426584, 4.74728280961183, 1.6659342731859126, 0.8736500391118569, 3.404844341285111, 1.6263696808510613, 3.6630035076082885, 2.2674152529036036, 2.195717276635731, 1.71316218372464, 4.0092187873138725, 5.40918928895905, 2.237186663567616, 3.669164252691761, 2.891974481784367, 1.8798647384423504, 3.4837296834901617, 1.8319031175077345, 4.026095397155084, 5.6354093976050015, 2.5539353619709737, 3.7977285340485007, 2.8515027467369767, 2.593812359434142, 3.310083495408859, 3.5197284041543337, 4.688172178158224, 2.5287711086804032, 4.011010291955467, 3.5559957017031283, 1.6352545827266227, 2.382078056396974, 2.6202135901926473, 2.272642547120455, 2.3706875760951998, 4.889922599606461, 3.055864430268826, 2.6327724784110216, 4.087957407280384, 1.900448536138359, 2.134842208330199, 3.576433822084203, 1.580249387338109, 2.7483616037839154, 6.553548168609716, 3.1598768421933277, 3.5625317317977814, 1.46742875901694, 3.328690948543086, 5.349771806675249, 2.99582551466223, 2.2955282962655903, 2.753923089728649, 3.885995733257623, 0.9164063470376425, 1.7898444179325754, 4.0155202342295055, 2.986934135674915, 1.6096385170011631, 2.181598609724515, 2.8537914531015547, 2.5135333071621213, 3.7579678915682573, 2.923783254201512, 2.219765837104073, 4.342282849574725, 5.037005273298414, 2.244091751621868, 2.148367014700776, 2.4468159350787904, 3.040673629461847, 3.0250474579480198, 2.769917180002847, 2.908180087656414, 1.9188153694905554, 1.873069908814594, 3.1107800889535864, 2.602117329451773, 2.755622046394407, 3.3594894101807276, 2.4841417418077856, 3.5136582795388187, 3.0161195823305604, 3.9797778775666486, 4.157531317494601, 2.8241104798553103, 2.7148825753253605, 1.5921835024261102, 1.7396464678052133, 4.10191839615702, 1.6043261065041463, 1.749825871108797, 3.8835835227500906, 3.8420132880250213, 2.1884316618448336, 2.703269672542363, 3.328771314669856, 3.4183389074693387, 2.9473291185592663, 3.36445354728629, 3.349023309258043, 2.3676655245155094, 4.648958170939149, 3.0188112114803567, 0.021576631537627122, 6.436791087449754, 3.781208784010014, 1.9258978491087284, 1.8863092050901415, 2.6279674207958426, 4.105754726013551, 2.210243258289928, 3.4667186240257992, 3.7677951460563466, 2.775877712367635, 1.970782710287612, 6.348464698837863, 2.2678193571701075, 3.194599480225505, 3.7821036297806305, 2.1828105726024436, 6.877528391770258, 1.4707127806143392, 1.3129406180598457, 0.8739604520638022, 2.5370315369442453, 5.063682546376527, 3.4891943461860215, 2.8255639300013886, 3.915366865588329, 2.751753097564499, 4.227288180595555, 2.3906644709835323, 2.5154365855382546, 3.0968468357928978, 2.2414036247209483, 2.5192125414258415, 5.6375601829802715, 5.875885872864448, 2.665237219444189, 2.387470612206513, 3.9643167408740183, 2.32525178128252, 4.667507737578452, 2.1202871694331935, 2.922596131164059, 4.822805773233921, 3.3551184829760854, 1.5191788898475647, 2.0418049845699775, 3.849813973665409, 4.612172236731775, 2.571378207895587, 3.960751391450557, 3.4604098374434837, 0.5301721472013143, 1.8331934621976451, 1.6580480288879254, 2.5911928399843935, 2.6530820105820068, 1.6018368002968923, 3.1545275825716637, 1.9581824596996436, 2.5566094144345786, 3.8608016929399556, 3.309911951176606, 1.631892760345362, 1.9933010421492785, 3.3037924787419053, 2.726868058084495, 1.046169190535271, 4.534123892563065, 2.0516307762176926, 2.5090668378594447, 2.4377354826786495, 3.0324664615622057, 4.375200092005414, 1.857265865094162, 1.372051582888984, 3.561261621045385, 4.087920563323571, 2.319576042250433, 3.172605109722837, 2.4132451151426904, 2.7715306280389185, 4.7326321145808965, 2.348622237087834, 3.3962776550181393, 2.9199607484196073, 3.8575686742876614, 2.231139674378746, 2.6623348630521013, 1.9038222840264862, 3.498448213502725, 2.191354544752482, 4.010104263845621, 2.7762196197636047, 1.7247529951537786, 4.351086482641518, 1.6394392523364498, 3.757839942403514, 4.2330564803199096, 3.8348610785705937, 2.5085167515080835, 2.400098833503991, 2.0042443585512912, 2.9918947544513514, 3.2524292330778914, 2.2694446311935343, 2.575564133690078, 5.442191716965288, 2.562607853347443, 2.7626158376619565, 1.632161594963274, 2.2244541071934925, -1.0850247847638863, 3.8075003794579203, 3.64890301324136, 2.2644043388238204, 2.4849848189754313, 4.402765068653538, 4.1074297776613555, 2.146536931409674, 3.4898820834331135, 3.7452344399481943, 3.303761719602374, 2.7619847678980616, 3.0979197898423823, 3.0718704701525423, 7.134744231212038, 4.632199599473237, 3.085365150822409, 3.5560585535726728, 2.5271465804180657, 2.790716201169885, 1.1325207077706463, 3.0585272176674825, 2.193768878866168, 5.5146030652660585, 2.6735681284780157, 1.4042017753345717, 3.1435849280961126, 3.7854597010772073, 0.9714739527160381, 2.652523938007962, 2.497604973941183, 2.6635668135820705, 3.8644880310815886, 3.2781568679479616, 3.5323997248544545, 2.8979247225717795, 2.92874942882566, 1.5362734865987022, 2.8767252346488714, 4.516628829715054, 2.423687973679065, 4.703745447266048, 3.044726798820223, 8.65306147347231, 4.789270231040121, 2.845587628252577, 0.025761976191246205, 1.6425862222835184, 4.709248013012816, 2.752035758287726, 3.1241518699977995, 2.8325462725587967, 1.815801020598455, 5.270510887772195, 3.8532402276713174, 2.7832533382278806, 2.370689505329114, 2.9510587997175604, 2.8368061420345483, 0.19444715730729561, 4.772387385588945, 4.177733297268055, 3.988922870970346, 2.7889816380837136, 4.468277841643408, 3.0822274428196805, 2.5209759077027463, 1.8467655834206895, 4.07718586640934, 2.0882811263409544, 2.370973266151693, 3.9006434980714912, 2.81547380224667, 2.5069837560096158, 3.171510250748166, 4.2180853572618195, 3.886399064692126, 2.9321115380643947, 4.103751698706998, 2.6451478204309904, 4.237195095231582, 3.8828360513616262, 3.8357704052317856, 5.371002812139736, 3.9980668899156493, 2.20340012237342, 3.5289179639002937, 1.7000039148953827, 1.7907234932063658, 1.6254054680259475, 3.2294976275286897, 3.082412128372919, 2.167904289947903, 4.362645760338874, 2.027288827288834, 2.707996777389118, 3.2598505164530147, 3.0479434661676272, 1.923966712393073, 3.43717226755511, 1.732845975317859, 4.835327773737422, 5.295733680041126, 2.4252837814670594, 2.9907895650496723, 3.0572449944385083, 3.9694347486693293, 2.219959691467641, 3.7561946496199563, 2.4943364506952572, 2.850136759445608, 3.1185876432518334, 0.9477495659561401, 1.2365267484946707, 1.1576470588235324, 2.1176162190082644, 2.897486456482812, 2.125628231346659, 3.214230001928744, 1.978166371681417, 2.461778418879386, 4.4772137149194275, 3.0318853550514184, 3.847706966543751, 2.236618857508993, 3.3387222868387125, 2.540757575182714, 2.2647329737810162, 2.1373463439361338, 1.46916626121123, 2.3828779101820494, 3.6190452117085385, 1.6276436814620774, 4.439827591912364, 3.0784559638084854, 0.2795804084103344, 2.75950248895547, 1.9745257714054159, 3.343952303619499, 2.174395813640213, 2.086164561876279, 2.0239529629211916, 2.575925268151175, 4.051696476731916, 2.433861002534944, 2.272519389637415, 2.284017000542748, 4.157799720619744, 3.677089008456467, 5.981184057590649, 1.0166701092461548, 3.7914409601174928, 4.806447432053389, 2.651989557069716, 2.782177456558509, 3.48444266847553, 4.3331361901177505, 4.407278387333977, 3.589950549128412, 3.71238879984143, 4.275352973119734, 3.2038599780367076, 2.565827117613293, 3.630975768845101, 1.9482517989085784, 2.056692042209287, 3.5997677711181213, 1.3780229641516109, 3.1362668327138046, 1.397082544958768, 2.7567674740349575, 2.9777127558635104, 2.4238767031430952, 2.603826295879771, 3.229916949792372, 3.565388322520846, 2.470366580942863, 3.752031291943093, 1.5773990599873091, 2.274440309546181, 3.8995183180923774, 3.0074626865671634, 0.9728860164906341, 3.1276578910186936, 2.7354385964912318, 4.303667733580104, 1.4202280555885523, 4.898978862800185, 1.4101934670054441, 2.8059240785126653, 2.1982440006712545, 2.37510052977596, 2.8647746841567345, 2.670975324408709, 2.4986505293331587, 2.2778667540932345, 3.454348914858098, 1.8340098212230371, 0.2234140082212422, 4.439211865001572, 2.8978845847431414, 1.364962661994971, 2.5514243811315174, 4.364504289799804, 1.2159547458373323, 4.905222870067122, 3.1264326041202253, 2.8038742899014, 3.4166890925656643, 3.32955670124309, 3.353930544886241, 2.8412690947838355, 1.2425379177956208, 3.272984314228805, 2.199814424293547, 2.457984942840351, 3.5901688166937196, 2.537446892687986, 3.0523013123359615, 4.1864510603879985, 3.65270185321512, 3.7123463753292834, 1.9892708972054862, 2.4562726059806015, 4.097276217293016, 2.444838770956946, 3.280937759336105, 2.0409001246724303, 4.237003967435686, 1.8578103488037891, 2.5092084540108135, 3.0024148466881577, 1.2616544360575306, 2.7570912626531507, 1.9557913634530815, 2.971996621621627, 3.736113276066189, 2.745399528515032, 2.9439187521328347, 2.953645857838321, 2.6909076889182524, 2.1748272337871546, 5.76867907659625, 2.4578342854945334, 2.7326126382216636, 2.6485501862717795, 2.95738061133671, 3.0773955242334305, 1.7643148114774676, 3.038660605226701, 1.99723610418796, 1.975057403539112, 2.9439429030060076, 2.4975329591580553, 3.260634978895212, 3.077576715384223, 0.8897336900346553, 4.597650796973157, 1.5386467997456705, 3.17072986018243, 3.4415266459115537, 3.450526498182522, 2.9058307783650132, 2.0352507973876084, 3.0853651508224145, 5.216771192093263, 3.1909154261251365, 3.001072968702718, 2.5876552379880926, 2.1481150657948733, 5.196684264766401, 3.8873211120238658, 2.7139125563350337, 2.191647459051304, 0.7697023532948857, 3.3804081257978655, 2.6749076022152907, 3.0199300645987655, 2.66502758770976, 3.310792427627806, 2.4865845600614995, 2.588779524183227, 3.119522136797451, 3.600027649793529, 2.3462036790305643, 2.3109994783195775, 2.3195759299258785, 3.507521557683282, 0.20067089933236915, 2.6483181211479216, -0.6692596829848808, 2.6490142714902003, 3.0236567772850114, 2.6818882777499145, 1.384487432386789, 1.3517021276595695, 0.8885416064303482, 3.844702874098097, 5.445881217602292, 2.4134505435135782, 2.88660782418477, -0.2616712810378725, 3.258059375618809, 1.843880178601058, 2.913813802299255, 2.8792109686536693, 3.3923600792471564, 2.6561267890181397, 3.515957578841547, 4.511368739403372, 3.959756557118698, 3.4848724161372022, 4.363686723973253, 4.386483878942258, 2.921415856777496, 3.168571043663401, 3.0216151104086597, 2.7436388989419456, 3.1346702469015115, 1.1621861612680222, 1.3880801431237826, 2.6063395589830147, 3.06804680130294, 3.029830899308225, 4.617464682338469, 2.6446866535931592, 1.4117366557152389, 3.1118542168339456, 3.8606009975268605, 2.3710934403719346, 2.763046716316856, 3.244007721224695, 2.4666998434057903, 3.5526928962962407, 3.277633806964585, 2.64615059983633, 2.9488608349900587, 2.5258852977987156, 2.911733561058923, 3.494130652872952, 4.309292846439704, 4.239824952919805, 4.0155258485183705, 1.7556320725569705, 3.0120597983703856, 3.702322620448496, 2.5192407351611927, 2.55420818316727, 2.4464123031856486, 2.481227336956925, 2.749968006054763, 3.4306801472712847, 0.7035605542941956, 2.4932366098990806, 2.232602759018028, 3.279112947275628, 4.378960250251955, 3.3577843731898076, 1.8696965756449366, 2.033290323991551, 3.316735135571709, 2.507254683436821, 2.431717541967764, 2.9085406374055744, 3.1407234830362105, 2.9274136230859376, 4.9297641257704985, 2.5298570783141177, 5.456082267239306, 5.087285960196895, 2.8304834915107664, 3.5546211243931727, 2.9856788778717944, 3.701195326659793, 3.9746049550654643, 2.3354459856231684, 2.542159056546714, 2.664880018241336, 4.666787417860345, 1.3485911379031772, 5.659367237163795, 3.0537770835494045, 1.9469169503168855, 3.811357762335876, 1.6383601664254765, 1.0402263753619425, 3.6469281232173447, 2.0107287500825786, 0.09705356848524338, 0.6698038585854662, 1.7528959268016129, 3.1708621683883815, 3.2441957419764846, 5.086465896383398, 2.9494847753807494, 5.036823056614755, 3.0250474579480215, 3.997346436426595, 4.386203652516318, 3.6393356616300467, 2.676659797451363, 6.812268786237372, 5.24362870629564, 1.8962290577893608, 2.5723602758458464, 2.9323769328258864, 2.24309271891601, 0.25061551674778904, 2.1344336569579263, 3.371996032088328, 2.936540578029924, 3.8554306891571537, 2.6585107501424186, 2.0143424198947795, 1.3443970867346495, 1.1849570100996671, 2.0963192631967376, 2.509725253414873, 1.7712546920165981, 2.428891115989647, 1.6357972231829687, 3.9318045838927715, 2.446313118913165, 3.4564115820555523, 4.088258339183403, 2.4421820345362013, 3.6833550347971666, 3.483250199287862, 2.3217259208253234, 3.9223145129472408, 0.9094970720774995, 2.5465345516260083, 2.6046559621730743, 3.113309733177756, 4.283279276365853, 2.8170224359783553, 2.608784259173642, 3.007698411844446, 2.592066818682596, 3.0893883649710827, 3.755464943947052, 2.6080963158721024, 3.0760684396829374, 4.316251866347944, 4.3889388910831375, 2.858790704640084, 9.114317245855355, 1.1966782443953263, 2.1698785463497385, 4.609990030420004, 1.3475931863727526, 3.1000656409783995, 2.4796963379171766, 3.329456775700929, 2.478481149497771, 2.494559374295938, 2.212082016843258, 4.125716478360245, 4.2296794415584635, 2.54263281829894, 1.258408333028083, 0.905415904479999, 2.150573144184044, 4.184850933734624, 2.2445383890461588, 2.4680207385473625, 3.5145098914175303, 1.3162643233743498, 1.405885532575938, 3.4295902280980273, 2.19527195490565, 2.0575485793761206, 1.5643463033444012, 4.2812608005850725, 1.8123769648890877, 2.9749425725534824, 2.2916637612808155, 3.4837111541850208, 2.823358053691854, 1.457695047338225, 1.5444519784860806, 2.2453103876852327, 2.207279169572341, 1.0799584846912325, 6.087342679236085, 2.2455333263027066, 3.470937522662151, 2.4210035758110284, 3.3219032061289693, 4.536362718073734, 4.476044781992757, 3.8828907173418497, 3.118791490514863, 2.154442392057258, 2.2228887270483737, 2.1539179123488092, 2.784567715712795, 2.551020129588488, 2.7920138809532036, 2.254548233046802, 3.9961675854074374, 1.8087477809397257, 3.147533676059086, 3.195742875569839, 1.7168680688953775, 1.4818828772043813, 2.987199382446262, 2.8100910903743364, 3.7346946153727187, 3.7811293932430257, 2.8749141206446973, 2.5235594565904935, 2.8472346557609285, 1.5053661273391894, 1.8650344138242518, 1.216350598006172, 2.5358600583090345, 4.251266544758371, 1.86380320966727, 1.5000589807426912, 3.4370610939281465, 2.8056484088101215, 2.8040153961278724, 3.1855434827541247, 2.519396153698003, 3.133523603408638, 1.9063006776913212, 3.13829705785847, 2.690347973810109, 4.369029475062719, 2.9670845912778265, 2.158538946750764, 2.4862233035955636, 2.687089150417529, 3.5062745161484807, 2.833772872689306, 0.6751925320886745, 2.255162541575069, 3.558153694257036, 3.060427700574521, 2.830536013425238, 3.295742785431838, 7.429963610417407, 0.89359150772697, 1.142494748747781, 3.0981451277776832, 2.8845288875864257, 5.410434732958742, 1.7974341161092209, 5.589377589092833, 3.23334168713998, 3.1600156930884387, 2.025190745549072, 3.2064845482296023, 2.6223601384845416, 2.7823079772140233, 4.846202692393807, 2.6633079371628856, 1.516105426513079, 2.127929637865316, 2.4909412066648917, 1.618858075040789, 1.6170297029702962, 3.471846428907812, 3.1387852670145655, 2.6263845719320025, 2.944992211177074, 2.166447968023251, 2.111166539818725, 5.074226371061847, 2.177523495465789, 7.671485080925859, 2.635121246108329, 4.076481503634731, 0.9800357164617282, 2.0174018362062376, 2.2982120451693775, 1.9593814432989705, 3.2119186386723837, 1.8483190769956028, 2.215153036804409, 4.696509921011371, 3.97122049772126, 3.0375677098770795, 2.2896015751679384, 4.638078545951574, 2.852841203326315, 1.4347333450648592, 2.4706296075813423, 1.6584110028041144, 1.8728418369754976, 2.037794922887362, 2.6316055922093495, 1.2614113597246115, 2.0661605135783923, 2.944093582693286, 2.9519429300545235, 3.245902787861396, 4.420702372310744, 2.239515977238117, 1.6761179894314946, 2.6726512744866007, 2.5086397226473762, 3.2647983182317404, 4.516133146395707, 5.2354742552358715, 3.7195427812483843, 3.2100143479273213, 2.715204314292676, 1.7660965740490935, 3.1008207602979345, 3.2650387256062507, 2.7059584415584426, 3.2174822614856264, 2.6217276362875053, 2.522813299232737, 2.720277335389356, 2.8795034267018362, 1.800597460791633, 3.0457760765999824, 2.577178598630608, -1.2027553428391067, 3.797945205479447, 2.8450889595777387, 3.397598832244694, 1.5661347205990293, 2.808049141405074, 4.7073341824682595, 2.4443440356766084, 1.2805311133496708, 2.258153677365733, 2.2305456325257818, 3.103356583638961, 1.3015209270665598, 2.902846201251677, 3.340995387395198, 4.10809897062992, 2.6746793153283566, 2.6868723034783994, 3.9112520590753004, 3.0358915217318336, 2.9824999999999964, 2.828151133501256, 3.446676045576643, 3.2371698488536533, 4.742815537125239, 1.706151122279977, 3.228903095059747, 3.916269591284803, 2.679107952955008, 2.544971155339697, 3.5260181216892446, 3.171510250748163, 2.298694532790941, 3.679589783022969, 2.8162282801057024, 4.201188380945211, 2.204476646696487, 1.573526787743793, 1.6743297688311087, 2.083500352357693, 3.3704301760710473, 2.6182027910786587, 2.4654937131833066, 3.9124998878525816, 2.339793539544125, 3.4126551474996565, 2.5942700142548403, 3.1071567968395994, 1.5783570646221223, 2.5841338319278044, 3.7186724071835107, 3.385662116138005, 2.8711290732169017, 2.878365953087072, 1.8115100286078438, 2.3877767193196915, 5.125928183282114, 3.0996631293850845, 0.23750265366546497, 2.3030797014782576, 3.660856903910671, 2.5968075265219444, 2.520576617943192, 2.6473683209494574, 2.371800131276661, 1.3116200206390038, 2.1917076246823735, 2.3551686420655136, 3.359145959964899, 4.959205045648165, 1.6802349487618495, 3.7306652684886865, 3.028572647385031, 2.2469553192270446, 4.621246971316372, 2.817579263478665, 3.1408758607975353, 2.7349455878080917, 2.686300781436453, 2.9583049662574084, 4.7306385810966685, 0.7490313727600526, 2.8452577022174, 2.1938066140643455, 4.858628515308756, 4.154192777954328, 2.574706450174714, 1.507693895098888, 2.505621392204979, 2.0179132935272337, 1.433849331970443, 5.815939486073626, 1.3883825542183654]\n"
          ]
        }
      ]
    },
    {
      "cell_type": "code",
      "source": [
        "import matplotlib.pyplot as plt\n",
        "\n",
        "plt.hist(X, bins='auto', alpha=0.7)\n",
        "plt.show()"
      ],
      "metadata": {
        "id": "hrMNY8rXgtj2",
        "outputId": "358790c9-9ce4-4803-9470-4b725dd00c40",
        "colab": {
          "base_uri": "https://localhost:8080/",
          "height": 430
        }
      },
      "execution_count": 22,
      "outputs": [
        {
          "output_type": "display_data",
          "data": {
            "text/plain": [
              "<Figure size 640x480 with 1 Axes>"
            ],
            "image/png": "[encoded data removed]"
          },
          "metadata": {}
        }
      ]
    },
    {
      "cell_type": "markdown",
      "source": [
        "####9.QQ-plot"
      ],
      "metadata": {
        "id": "oAd88EfxUAW5"
      }
    },
    {
      "cell_type": "markdown",
      "source": [
        "|#|1|2|3|4|5|6|7|8|9|10\n",
        "|---|---|---|---|---|---|---|---|---|---|---|\n",
        "|$y$|5.|7.9|11.2|11.7|8.9|6.8|8.4|8.8|10.1|7.5|\n",
        "|$x_1$|1.|1.1|1.5|3.|2.4|1.2|2.4|2.9|1.3|2.|\n",
        "|$x_2$|0.5|2.1|3.|1.5|1.7|1.2|0.2|0.9|2.3|1.|"
      ],
      "metadata": {
        "id": "yBftHfCHZdCi"
      }
    },
    {
      "cell_type": "markdown",
      "source": [
        "####10.차원의 저주"
      ],
      "metadata": {
        "id": "TZGeqWdeUCOJ"
      }
    },
    {
      "cell_type": "markdown",
      "source": [
        "####11.상관관계와 인과관계\n",
        "상관관계이지만 인과관계가 아닌 예를 쓰시오."
      ],
      "metadata": {
        "id": "d-0viJJtUDtx"
      }
    },
    {
      "cell_type": "markdown",
      "source": [
        "####12.모집단의 표본 추출"
      ],
      "metadata": {
        "id": "hVwafIzyWSuR"
      }
    },
    {
      "cell_type": "markdown",
      "source": [
        "####13.모형의 편이 비교"
      ],
      "metadata": {
        "id": "SKBc2U7XWa6R"
      }
    },
    {
      "cell_type": "markdown",
      "source": [
        "####14.지도학습의 예를 드시오."
      ],
      "metadata": {
        "id": "AEXRCRxVWdyx"
      }
    },
    {
      "cell_type": "markdown",
      "source": [
        "####15.층화추출법을 사용하는 예를 드시오."
      ],
      "metadata": {
        "id": "QvdwL2xIWg3x"
      }
    },
    {
      "cell_type": "markdown",
      "source": [
        "####16.사후추출법을 사용하는 예를 드시오."
      ],
      "metadata": {
        "id": "CmcabFOGWkDR"
      }
    },
    {
      "cell_type": "markdown",
      "source": [
        "####17."
      ],
      "metadata": {
        "id": "NLs2X_wYZ6UR"
      }
    }
  ]
}