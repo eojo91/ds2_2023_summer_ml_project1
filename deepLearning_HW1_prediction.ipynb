{
  "nbformat": 4,
  "nbformat_minor": 0,
  "metadata": {
    "colab": {
      "provenance": [],
      "authorship_tag": "ABX9TyOJ5Qp7kLDDEySe6VYxvsNJ",
      "include_colab_link": true
    },
    "kernelspec": {
      "name": "python3",
      "display_name": "Python 3"
    },
    "language_info": {
      "name": "python"
    }
  },
  "cells": [
    {
      "cell_type": "markdown",
      "metadata": {
        "id": "view-in-github",
        "colab_type": "text"
      },
      "source": [
        "<a href=\"https://colab.research.google.com/github/eojo91/ds2_2023_summer_ml_project1/blob/main/deepLearning_HW1_prediction.ipynb\" target=\"_parent\"><img src=\"https://colab.research.google.com/assets/colab-badge.svg\" alt=\"Open In Colab\"/></a>"
      ]
    },
    {
      "cell_type": "code",
      "execution_count": 1,
      "metadata": {
        "colab": {
          "base_uri": "https://localhost:8080/"
        },
        "id": "TRPw3k7x4N3s",
        "outputId": "29d4623b-d294-4460-86ba-f9ca54edc61e"
      },
      "outputs": [
        {
          "output_type": "stream",
          "name": "stdout",
          "text": [
            "Drive already mounted at /content/drive; to attempt to forcibly remount, call drive.mount(\"/content/drive\", force_remount=True).\n"
          ]
        }
      ],
      "source": [
        "import numpy as np\n",
        "import pandas as pd\n",
        "from google.colab import drive\n",
        "import os\n",
        "\n",
        "drive.mount('/content/drive')"
      ]
    },
    {
      "cell_type": "code",
      "source": [
        "### y_test.csv와 result.csv 파일이 있는 경로로 수정 필요\n",
        "os.chdir('/content/drive/MyDrive/')"
      ],
      "metadata": {
        "id": "WqxpWmjb-YY1"
      },
      "execution_count": 4,
      "outputs": []
    },
    {
      "cell_type": "code",
      "source": [
        "y_test = pd.read_csv('y_test.csv')\n",
        "y_pred = pd.read_csv('result.csv')\n",
        "\n",
        "y_test.columns = ['Time', 'Class']\n",
        "y_pred.columns = ['Time', 'Class']"
      ],
      "metadata": {
        "id": "tPUnmvm74Wen"
      },
      "execution_count": 5,
      "outputs": []
    },
    {
      "cell_type": "code",
      "source": [
        "df = pd.merge(left = y_test, right = y_pred, left_index=True, right_index=True, how='left')\n",
        "df = df.reset_index(drop=True)\n",
        "\n",
        "df = df.drop('Time_y', axis=1)\n",
        "df.rename(columns={'Time_x':'Time'},inplace=True)\n",
        "\n",
        "df['result'] = df['Class_x'] < df['Class_y']\n",
        "df.loc[df['Class_x'] > df['Class_y'], 'result'] = \"FN\"\n",
        "df.loc[df['Class_x'] < df['Class_y'], 'result'] = \"FP\"\n",
        "df.loc[(df['Class_x'] == df['Class_y']) & (df['Class_x'] == 1), 'result'] = \"TP\"\n",
        "df.loc[(df['Class_x'] == df['Class_y']) & (df['Class_x'] == 0), 'result'] = \"TN\"\n",
        "\n",
        "score = df['result'].value_counts()"
      ],
      "metadata": {
        "id": "2Z6qGZ2k4bkH"
      },
      "execution_count": 8,
      "outputs": []
    },
    {
      "cell_type": "code",
      "source": [
        "print(f'expected Accuracy.: {(score[\"TP\"] + score[\"TN\"]) / len(df[\"result\"]):.5f}')\n",
        "print(f'expected f1-score.: {(score[\"TP\"]) / (score[\"TP\"] + score[\"FP\"]):.5f}')\n",
        "print(f'expected Recall: {(score[\"TP\"]) / (score[\"TP\"] + score[\"FN\"]):.5f}')\n",
        "print(f'   TP: {score[\"TP\"]}\\n   TN: {score[\"TN\"]}\\n   FP: {score[\"FP\"]}\\n   FN: {score[\"FN\"]}\\n')"
      ],
      "metadata": {
        "colab": {
          "base_uri": "https://localhost:8080/"
        },
        "id": "0rwi6yKx9BP-",
        "outputId": "b662eb0e-44fc-4f3c-cac8-bf24049e3b85"
      },
      "execution_count": 12,
      "outputs": [
        {
          "output_type": "stream",
          "name": "stdout",
          "text": [
            "expected Accuracy.: 0.99946\n",
            "expected f1-score.: 0.83838\n",
            "expected Recall: 0.84694\n",
            "   TP: 83\n",
            "   TN: 56847\n",
            "   FP: 16\n",
            "   FN: 15\n",
            "\n"
          ]
        }
      ]
    }
  ]
}