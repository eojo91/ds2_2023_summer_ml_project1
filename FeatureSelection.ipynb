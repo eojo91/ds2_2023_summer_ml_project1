{
  "cells": [
    {
      "cell_type": "markdown",
      "metadata": {
        "id": "7T-q6b1M6DPz"
      },
      "source": [
        "# Feature Selection"
      ]
    },
    {
      "cell_type": "markdown",
      "metadata": {
        "id": "cvu6IZUIHUkz"
      },
      "source": [
        "### Import libraries"
      ]
    },
    {
      "cell_type": "code",
      "execution_count": null,
      "metadata": {
        "id": "EdbEVEAKHUk0"
      },
      "outputs": [],
      "source": [
        "import pickle\n",
        "from urllib.request import urlopen\n",
        "\n",
        "import numpy as np\n",
        "from sklearn.decomposition import PCA\n",
        "from sklearn.model_selection import cross_val_score, GridSearchCV, LeaveOneGroupOut\n",
        "from sklearn.neighbors import KNeighborsClassifier\n",
        "from sklearn.pipeline import Pipeline\n",
        "from sklearn.preprocessing import FunctionTransformer, StandardScaler\n",
        "from tqdm.notebook import tnrange"
      ]
    },
    {
      "cell_type": "markdown",
      "metadata": {
        "id": "xxCGdzsO6DP2"
      },
      "source": [
        "### Data Load"
      ]
    },
    {
      "cell_type": "code",
      "execution_count": null,
      "metadata": {
        "id": "hLUxG2xS6DP3"
      },
      "outputs": [],
      "source": [
        "def load_data(local=True):\n",
        "    \"\"\"\n",
        "    For colab, use local = False.\n",
        "    It takes a few minutes to download.\n",
        "    \"\"\"\n",
        "    if local:\n",
        "        DATA_PATH = 'data/train.pkl'\n",
        "        with open(DATA_PATH, 'rb') as f:\n",
        "            df = pickle.load(f)\n",
        "    else:\n",
        "        DATA_URL = 'https://gitlab.com/machine-learning-course1/ml-project-samsung-2023-summer/-/raw/master/data/train.pkl?inline=false'\n",
        "        df = pickle.load(urlopen(DATA_URL))\n",
        "\n",
        "    X        = np.stack(df['Data'])\n",
        "    Y        = np.stack(df['Motion'])\n",
        "    Subjects = np.stack(df['Subject'])\n",
        "\n",
        "    return X, Y, Subjects"
      ]
    },
    {
      "cell_type": "code",
      "execution_count": null,
      "metadata": {
        "id": "AcG-0rpoHUk1",
        "outputId": "5465ee23-0905-4d40-bbe5-f192d9c06c70"
      },
      "outputs": [
        {
          "name": "stdout",
          "output_type": "stream",
          "text": [
            "X: (13940, 500, 3)  Y: (13940,)  Subjects: (13940,)\n",
            "Motions: ['Nordic walking', 'ascending stairs', 'cycling', 'descending stairs', 'ironing', 'lying', 'rope jumping', 'running', 'sitting', 'standing', 'vacuum cleaning', 'walking']\n",
            "Subjects: [3, 4, 5, 6, 7, 8, 9]\n"
          ]
        }
      ],
      "source": [
        "X, Y, Subjects = load_data(local=True)\n",
        "\n",
        "print(f'X: {X.shape}  Y: {Y.shape}  Subjects: {Subjects.shape}')\n",
        "print(f'Motions: {sorted(set(Y))}')\n",
        "print(f'Subjects: {sorted(set(Subjects))}')"
      ]
    },
    {
      "cell_type": "markdown",
      "metadata": {
        "id": "sDrxFUXyHUk2"
      },
      "source": [
        "### Feature Extraction"
      ]
    },
    {
      "cell_type": "code",
      "execution_count": null,
      "metadata": {
        "id": "6_nDuapMHUk2"
      },
      "outputs": [],
      "source": [
        "def extract_features(X_sample: np.ndarray) -> np.ndarray:\n",
        "    \"\"\"\n",
        "    Extract features from a single sample\n",
        "\n",
        "    Parameters\n",
        "    ----------\n",
        "    X_sample : array of shape (500, 3)\n",
        "        100Hz * 5 seconds => 500\n",
        "        3 axis (x, y, z)  => 3\n",
        "\n",
        "    Returns\n",
        "    -------\n",
        "    features : array with (p,) shape\n",
        "        Extracted features from X_sample\n",
        "    \"\"\"\n",
        "    assert X_sample.shape == (500, 3)\n",
        "\n",
        "    # Extract time domain features\n",
        "    X_time = X_sample\n",
        "    mean = np.mean(X_time, axis=0)\n",
        "    std = np.std(X_time, axis=0)\n",
        "\n",
        "    # Extract frequency domain features\n",
        "    X_freq = np.abs(np.fft.fft(X_sample, axis=0))[1:]\n",
        "    dominant_freq = np.argmax(X_freq)\n",
        "\n",
        "    # Concatenate features\n",
        "    features = np.hstack([\n",
        "        mean,\n",
        "        std,\n",
        "        dominant_freq,\n",
        "    ])\n",
        "\n",
        "    assert features.ndim == 1\n",
        "    return features"
      ]
    },
    {
      "cell_type": "code",
      "execution_count": null,
      "metadata": {
        "id": "YFRG9RrLHUk2",
        "outputId": "574a1696-d114-45a5-a965-e0dbc063c9fd"
      },
      "outputs": [
        {
          "name": "stdout",
          "output_type": "stream",
          "text": [
            "(13940, 7)\n"
          ]
        }
      ],
      "source": [
        "# Extract features for multiple samples\n",
        "X_features = np.array([\n",
        "    extract_features(X_sample)\n",
        "    for X_sample in X\n",
        "])\n",
        "num_features = X_features.shape[1]\n",
        "print(X_features.shape)"
      ]
    },
    {
      "cell_type": "markdown",
      "metadata": {
        "id": "2wq30PiNHUk3"
      },
      "source": [
        "### Feature Selector"
      ]
    },
    {
      "cell_type": "code",
      "execution_count": null,
      "metadata": {
        "id": "1gScs2AnHUk3"
      },
      "outputs": [],
      "source": [
        "def select_features(features, indices=None):\n",
        "    if indices is None:\n",
        "        indices = [i for i in range(features.shape[1])]\n",
        "    return features[:, indices]\n",
        "\n",
        "\n",
        "feature_selector = FunctionTransformer(select_features)"
      ]
    },
    {
      "cell_type": "code",
      "execution_count": null,
      "metadata": {
        "id": "uDaxuV2YHUk3",
        "outputId": "ee52c783-1f0b-451c-9bb9-466bbae88791"
      },
      "outputs": [
        {
          "data": {
            "text/plain": [
              "{'accept_sparse': False,\n",
              " 'check_inverse': True,\n",
              " 'feature_names_out': None,\n",
              " 'func': <function __main__.select_features(features, indices=None)>,\n",
              " 'inv_kw_args': None,\n",
              " 'inverse_func': None,\n",
              " 'kw_args': None,\n",
              " 'validate': False}"
            ]
          },
          "execution_count": 7,
          "metadata": {},
          "output_type": "execute_result"
        }
      ],
      "source": [
        "feature_selector.get_params()"
      ]
    },
    {
      "cell_type": "code",
      "execution_count": null,
      "metadata": {
        "id": "sjSijcVyHUk3",
        "outputId": "552c7ce7-be8b-462e-b6c5-5bfced9c66a1"
      },
      "outputs": [
        {
          "name": "stdout",
          "output_type": "stream",
          "text": [
            "(13940, 7)\n"
          ]
        }
      ],
      "source": [
        "X_selected = feature_selector.transform(X_features)\n",
        "print(X_selected.shape)"
      ]
    },
    {
      "cell_type": "code",
      "execution_count": null,
      "metadata": {
        "id": "RLJCXEkkHUk3",
        "outputId": "7bf60d98-eefe-435b-b1f4-a0d320a8e806"
      },
      "outputs": [
        {
          "name": "stdout",
          "output_type": "stream",
          "text": [
            "(13940, 3)\n"
          ]
        }
      ],
      "source": [
        "feature_selector.set_params(\n",
        "    kw_args={'indices': [1, 3, 5]}\n",
        ")\n",
        "X_selected = feature_selector.transform(X_features)\n",
        "print(X_selected.shape)"
      ]
    },
    {
      "cell_type": "markdown",
      "metadata": {
        "id": "m0Pl7F8w6DP4"
      },
      "source": [
        "### Example `KNNClassifier` with Feature Selection"
      ]
    },
    {
      "cell_type": "code",
      "execution_count": null,
      "metadata": {
        "id": "zYRK6Efv6DP4"
      },
      "outputs": [],
      "source": [
        "# Example KNNClassifier\n",
        "KNNClassifier = Pipeline([\n",
        "    ('feature_selector', FunctionTransformer(select_features)),\n",
        "    ('scaler', StandardScaler()),\n",
        "    ('preprocessor', PCA()),\n",
        "    ('classifier', KNeighborsClassifier(n_neighbors=10)),\n",
        "])"
      ]
    },
    {
      "cell_type": "markdown",
      "metadata": {
        "id": "9RFgqEcv6DP5"
      },
      "source": [
        "### List hyperparameters of the `KNNClassifier`"
      ]
    },
    {
      "cell_type": "code",
      "execution_count": null,
      "metadata": {
        "colab": {
          "base_uri": "https://localhost:8080/"
        },
        "id": "qjrlXJhf6DP6",
        "outputId": "3462c970-3b50-4f20-f3c4-795ef7933a9b"
      },
      "outputs": [
        {
          "data": {
            "text/plain": [
              "{'memory': None,\n",
              " 'steps': [('feature_selector',\n",
              "   FunctionTransformer(func=<function select_features at 0x7f9fe1223700>)),\n",
              "  ('scaler', StandardScaler()),\n",
              "  ('preprocessor', PCA()),\n",
              "  ('classifier', KNeighborsClassifier(n_neighbors=10))],\n",
              " 'verbose': False,\n",
              " 'feature_selector': FunctionTransformer(func=<function select_features at 0x7f9fe1223700>),\n",
              " 'scaler': StandardScaler(),\n",
              " 'preprocessor': PCA(),\n",
              " 'classifier': KNeighborsClassifier(n_neighbors=10),\n",
              " 'feature_selector__accept_sparse': False,\n",
              " 'feature_selector__check_inverse': True,\n",
              " 'feature_selector__feature_names_out': None,\n",
              " 'feature_selector__func': <function __main__.select_features(features, indices=None)>,\n",
              " 'feature_selector__inv_kw_args': None,\n",
              " 'feature_selector__inverse_func': None,\n",
              " 'feature_selector__kw_args': None,\n",
              " 'feature_selector__validate': False,\n",
              " 'scaler__copy': True,\n",
              " 'scaler__with_mean': True,\n",
              " 'scaler__with_std': True,\n",
              " 'preprocessor__copy': True,\n",
              " 'preprocessor__iterated_power': 'auto',\n",
              " 'preprocessor__n_components': None,\n",
              " 'preprocessor__n_oversamples': 10,\n",
              " 'preprocessor__power_iteration_normalizer': 'auto',\n",
              " 'preprocessor__random_state': None,\n",
              " 'preprocessor__svd_solver': 'auto',\n",
              " 'preprocessor__tol': 0.0,\n",
              " 'preprocessor__whiten': False,\n",
              " 'classifier__algorithm': 'auto',\n",
              " 'classifier__leaf_size': 30,\n",
              " 'classifier__metric': 'minkowski',\n",
              " 'classifier__metric_params': None,\n",
              " 'classifier__n_jobs': None,\n",
              " 'classifier__n_neighbors': 10,\n",
              " 'classifier__p': 2,\n",
              " 'classifier__weights': 'uniform'}"
            ]
          },
          "execution_count": 11,
          "metadata": {},
          "output_type": "execute_result"
        }
      ],
      "source": [
        "KNNClassifier.get_params()"
      ]
    },
    {
      "cell_type": "markdown",
      "metadata": {
        "id": "DeDHwvQK6DP6"
      },
      "source": [
        "### Feature Selection with Cross-validation"
      ]
    },
    {
      "cell_type": "code",
      "execution_count": null,
      "metadata": {
        "id": "kaIR5GRXHUk4",
        "outputId": "abf8a1a0-c246-4510-c798-bf46260d3a61",
        "colab": {
          "referenced_widgets": [
            "d6d1b3963f464e9eb86bd067aa509210"
          ]
        }
      },
      "outputs": [
        {
          "data": {
            "application/vnd.jupyter.widget-view+json": {
              "model_id": "d6d1b3963f464e9eb86bd067aa509210",
              "version_major": 2,
              "version_minor": 0
            },
            "text/plain": [
              "  0%|          | 0/7 [00:00<?, ?it/s]"
            ]
          },
          "metadata": {},
          "output_type": "display_data"
        }
      ],
      "source": [
        "# Initialization variables\n",
        "features, remaining_features = [], [i for i in range(num_features)]\n",
        "score_dict, features_dict = {}, {}\n",
        "\n",
        "for k in tnrange(1, num_features + 1):\n",
        "    best_score = -1\n",
        "    for feature in remaining_features:\n",
        "        KNNClassifier.set_params(feature_selector__kw_args={\n",
        "            'indices': features + [feature]\n",
        "        })\n",
        "        score = cross_val_score(\n",
        "            KNNClassifier,\n",
        "            X_features, Y,\n",
        "            groups=Subjects,\n",
        "            cv=LeaveOneGroupOut(),\n",
        "            scoring='f1_macro',\n",
        "            n_jobs=-1,\n",
        "        ).mean()\n",
        "        if best_score < score:\n",
        "            best_score = score\n",
        "            best_feature = feature\n",
        "\n",
        "    # Updating variables for next loop\n",
        "    features.append(best_feature)\n",
        "    remaining_features.remove(best_feature)\n",
        "    assert len(features) == k\n",
        "\n",
        "    # Saving values for plotting\n",
        "    score_dict[k] = best_score\n",
        "    features_dict[k] = features.copy()"
      ]
    },
    {
      "cell_type": "code",
      "execution_count": null,
      "metadata": {
        "id": "w60Nw8-rHUk4",
        "outputId": "b7c1795d-dba7-46ad-9407-e203992676af"
      },
      "outputs": [
        {
          "name": "stdout",
          "output_type": "stream",
          "text": [
            "k=1  F1 score: 0.2697  Selected features: [6]\n",
            "k=2  F1 score: 0.3505  Selected features: [6, 4]\n",
            "k=3  F1 score: 0.4225  Selected features: [6, 4, 0]\n",
            "k=4  F1 score: 0.4647  Selected features: [6, 4, 0, 5]\n",
            "k=5  F1 score: 0.4969  Selected features: [6, 4, 0, 5, 2]\n",
            "k=6  F1 score: 0.4943  Selected features: [6, 4, 0, 5, 2, 3]\n",
            "k=7  F1 score: 0.4500  Selected features: [6, 4, 0, 5, 2, 3, 1]\n"
          ]
        }
      ],
      "source": [
        "for k in range(1, num_features + 1):\n",
        "    print(f'k={k}  F1 score: {score_dict[k]:.4f}  Selected features: {features_dict[k]}')"
      ]
    },
    {
      "cell_type": "markdown",
      "metadata": {
        "id": "Ibe_8xK_HUk5"
      },
      "source": [
        "### Tune `indices` and `n_neighbors`"
      ]
    },
    {
      "cell_type": "code",
      "execution_count": null,
      "metadata": {
        "colab": {
          "base_uri": "https://localhost:8080/"
        },
        "id": "4KRFcssB6DP7",
        "outputId": "4af0c15c-e330-4a88-ddc4-1837d905b932"
      },
      "outputs": [
        {
          "name": "stdout",
          "output_type": "stream",
          "text": [
            "Fitting 7 folds for each of 6 candidates, totalling 42 fits\n",
            "[CV 1/7; 1/6] START classifier__n_neighbors=5, feature_selector__kw_args={'indices': [6, 4, 0, 5, 2]}\n",
            "[CV 2/7; 1/6] START classifier__n_neighbors=5, feature_selector__kw_args={'indices': [6, 4, 0, 5, 2]}\n",
            "[CV 3/7; 1/6] START classifier__n_neighbors=5, feature_selector__kw_args={'indices': [6, 4, 0, 5, 2]}\n",
            "[CV 4/7; 1/6] START classifier__n_neighbors=5, feature_selector__kw_args={'indices': [6, 4, 0, 5, 2]}\n",
            "[CV 5/7; 1/6] START classifier__n_neighbors=5, feature_selector__kw_args={'indices': [6, 4, 0, 5, 2]}\n",
            "[CV 6/7; 1/6] START classifier__n_neighbors=5, feature_selector__kw_args={'indices': [6, 4, 0, 5, 2]}\n",
            "[CV 7/7; 1/6] START classifier__n_neighbors=5, feature_selector__kw_args={'indices': [6, 4, 0, 5, 2]}\n",
            "[CV 1/7; 2/6] START classifier__n_neighbors=5, feature_selector__kw_args={'indices': [6, 4, 0, 5, 2, 3]}\n",
            "[CV 2/7; 2/6] START classifier__n_neighbors=5, feature_selector__kw_args={'indices': [6, 4, 0, 5, 2, 3]}\n",
            "[CV 3/7; 2/6] START classifier__n_neighbors=5, feature_selector__kw_args={'indices': [6, 4, 0, 5, 2, 3]}\n",
            "[CV 4/7; 2/6] START classifier__n_neighbors=5, feature_selector__kw_args={'indices': [6, 4, 0, 5, 2, 3]}\n",
            "[CV 5/7; 2/6] START classifier__n_neighbors=5, feature_selector__kw_args={'indices': [6, 4, 0, 5, 2, 3]}\n",
            "[CV 7/7; 1/6] END classifier__n_neighbors=5, feature_selector__kw_args={'indices': [6, 4, 0, 5, 2]};, score=0.299 total time=   0.0s\n",
            "[CV 6/7; 2/6] START classifier__n_neighbors=5, feature_selector__kw_args={'indices': [6, 4, 0, 5, 2, 3]}\n",
            "[CV 7/7; 2/6] START classifier__n_neighbors=5, feature_selector__kw_args={'indices': [6, 4, 0, 5, 2, 3]}\n",
            "[CV 1/7; 1/6] END classifier__n_neighbors=5, feature_selector__kw_args={'indices': [6, 4, 0, 5, 2]};, score=0.384 total time=   0.1s\n",
            "[CV 1/7; 3/6] START classifier__n_neighbors=10, feature_selector__kw_args={'indices': [6, 4, 0, 5, 2]}\n",
            "[CV 2/7; 3/6] START classifier__n_neighbors=10, feature_selector__kw_args={'indices': [6, 4, 0, 5, 2]}\n",
            "[CV 3/7; 3/6] START classifier__n_neighbors=10, feature_selector__kw_args={'indices': [6, 4, 0, 5, 2]}\n",
            "[CV 4/7; 3/6] START classifier__n_neighbors=10, feature_selector__kw_args={'indices': [6, 4, 0, 5, 2]}\n",
            "[CV 7/7; 2/6] END classifier__n_neighbors=5, feature_selector__kw_args={'indices': [6, 4, 0, 5, 2, 3]};, score=0.141 total time=   0.0s\n",
            "[CV 5/7; 3/6] START classifier__n_neighbors=10, feature_selector__kw_args={'indices': [6, 4, 0, 5, 2]}\n",
            "[CV 6/7; 3/6] START classifier__n_neighbors=10, feature_selector__kw_args={'indices': [6, 4, 0, 5, 2]}\n",
            "[CV 7/7; 3/6] START classifier__n_neighbors=10, feature_selector__kw_args={'indices': [6, 4, 0, 5, 2]}\n",
            "[CV 3/7; 1/6] END classifier__n_neighbors=5, feature_selector__kw_args={'indices': [6, 4, 0, 5, 2]};, score=0.449 total time=   0.1s\n",
            "[CV 1/7; 4/6] START classifier__n_neighbors=10, feature_selector__kw_args={'indices': [6, 4, 0, 5, 2, 3]}\n",
            "[CV 4/7; 1/6] END classifier__n_neighbors=5, feature_selector__kw_args={'indices': [6, 4, 0, 5, 2]};, score=0.672 total time=   0.1s\n",
            "[CV 2/7; 4/6] START classifier__n_neighbors=10, feature_selector__kw_args={'indices': [6, 4, 0, 5, 2, 3]}\n",
            "[CV 1/7; 2/6] END classifier__n_neighbors=5, feature_selector__kw_args={'indices': [6, 4, 0, 5, 2, 3]};, score=0.432 total time=   0.1s\n",
            "[CV 3/7; 4/6] START classifier__n_neighbors=10, feature_selector__kw_args={'indices': [6, 4, 0, 5, 2, 3]}\n",
            "[CV 4/7; 4/6] START classifier__n_neighbors=10, feature_selector__kw_args={'indices': [6, 4, 0, 5, 2, 3]}\n",
            "[CV 5/7; 1/6] END classifier__n_neighbors=5, feature_selector__kw_args={'indices': [6, 4, 0, 5, 2]};, score=0.424 total time=   0.1s\n",
            "[CV 6/7; 1/6] END classifier__n_neighbors=5, feature_selector__kw_args={'indices': [6, 4, 0, 5, 2]};, score=0.661 total time=   0.1s\n",
            "[CV 5/7; 4/6] START classifier__n_neighbors=10, feature_selector__kw_args={'indices': [6, 4, 0, 5, 2, 3]}\n",
            "[CV 6/7; 4/6] START classifier__n_neighbors=10, feature_selector__kw_args={'indices': [6, 4, 0, 5, 2, 3]}\n",
            "[CV 7/7; 3/6] END classifier__n_neighbors=10, feature_selector__kw_args={'indices': [6, 4, 0, 5, 2]};, score=0.288 total time=   0.0s\n",
            "[CV 2/7; 2/6] END classifier__n_neighbors=5, feature_selector__kw_args={'indices': [6, 4, 0, 5, 2, 3]};, score=0.493 total time=   0.1s\n",
            "[CV 2/7; 1/6] END classifier__n_neighbors=5, feature_selector__kw_args={'indices': [6, 4, 0, 5, 2]};, score=0.499 total time=   0.2s\n",
            "[CV 7/7; 4/6] START classifier__n_neighbors=10, feature_selector__kw_args={'indices': [6, 4, 0, 5, 2, 3]}\n",
            "[CV 1/7; 5/6] START classifier__n_neighbors=15, feature_selector__kw_args={'indices': [6, 4, 0, 5, 2]}\n",
            "[CV 2/7; 5/6] START classifier__n_neighbors=15, feature_selector__kw_args={'indices': [6, 4, 0, 5, 2]}\n",
            "[CV 5/7; 2/6] END classifier__n_neighbors=5, feature_selector__kw_args={'indices': [6, 4, 0, 5, 2, 3]};, score=0.444 total time=   0.1s\n",
            "[CV 3/7; 5/6] START classifier__n_neighbors=15, feature_selector__kw_args={'indices': [6, 4, 0, 5, 2]}\n",
            "[CV 4/7; 5/6] START classifier__n_neighbors=15, feature_selector__kw_args={'indices': [6, 4, 0, 5, 2]}\n",
            "[CV 5/7; 5/6] START classifier__n_neighbors=15, feature_selector__kw_args={'indices': [6, 4, 0, 5, 2]}\n",
            "[CV 3/7; 2/6] END classifier__n_neighbors=5, feature_selector__kw_args={'indices': [6, 4, 0, 5, 2, 3]};, score=0.508 total time=   0.1s\n",
            "[CV 4/7; 2/6] END classifier__n_neighbors=5, feature_selector__kw_args={'indices': [6, 4, 0, 5, 2, 3]};, score=0.595 total time=   0.1s\n",
            "[CV 7/7; 4/6] END classifier__n_neighbors=10, feature_selector__kw_args={'indices': [6, 4, 0, 5, 2, 3]};, score=0.169 total time=   0.0s\n",
            "[CV 6/7; 5/6] START classifier__n_neighbors=15, feature_selector__kw_args={'indices': [6, 4, 0, 5, 2]}\n",
            "[CV 7/7; 5/6] START classifier__n_neighbors=15, feature_selector__kw_args={'indices': [6, 4, 0, 5, 2]}\n",
            "[CV 1/7; 6/6] START classifier__n_neighbors=15, feature_selector__kw_args={'indices': [6, 4, 0, 5, 2, 3]}\n",
            "[CV 2/7; 6/6] START classifier__n_neighbors=15, feature_selector__kw_args={'indices': [6, 4, 0, 5, 2, 3]}\n",
            "[CV 3/7; 6/6] START classifier__n_neighbors=15, feature_selector__kw_args={'indices': [6, 4, 0, 5, 2, 3]}\n",
            "[CV 4/7; 6/6] START classifier__n_neighbors=15, feature_selector__kw_args={'indices': [6, 4, 0, 5, 2, 3]}\n",
            "[CV 5/7; 6/6] START classifier__n_neighbors=15, feature_selector__kw_args={'indices': [6, 4, 0, 5, 2, 3]}\n",
            "[CV 1/7; 3/6] END classifier__n_neighbors=10, feature_selector__kw_args={'indices': [6, 4, 0, 5, 2]};, score=0.406 total time=   0.2s\n",
            "[CV 7/7; 5/6] END classifier__n_neighbors=15, feature_selector__kw_args={'indices': [6, 4, 0, 5, 2]};, score=0.216 total time=   0.0s\n",
            "[CV 5/7; 3/6] END classifier__n_neighbors=10, feature_selector__kw_args={'indices': [6, 4, 0, 5, 2]};, score=0.466 total time=   0.1s\n",
            "[CV 6/7; 6/6] START classifier__n_neighbors=15, feature_selector__kw_args={'indices': [6, 4, 0, 5, 2, 3]}\n",
            "[CV 7/7; 6/6] START classifier__n_neighbors=15, feature_selector__kw_args={'indices': [6, 4, 0, 5, 2, 3]}\n",
            "[CV 1/7; 4/6] END classifier__n_neighbors=10, feature_selector__kw_args={'indices': [6, 4, 0, 5, 2, 3]};, score=0.376 total time=   0.1s\n",
            "[CV 6/7; 2/6] END classifier__n_neighbors=5, feature_selector__kw_args={'indices': [6, 4, 0, 5, 2, 3]};, score=0.726 total time=   0.2s\n",
            "[CV 3/7; 3/6] END classifier__n_neighbors=10, feature_selector__kw_args={'indices': [6, 4, 0, 5, 2]};, score=0.460 total time=   0.2s\n",
            "[CV 6/7; 3/6] END classifier__n_neighbors=10, feature_selector__kw_args={'indices': [6, 4, 0, 5, 2]};, score=0.669 total time=   0.2s\n",
            "[CV 2/7; 3/6] END classifier__n_neighbors=10, feature_selector__kw_args={'indices': [6, 4, 0, 5, 2]};, score=0.563 total time=   0.2s\n",
            "[CV 4/7; 4/6] END classifier__n_neighbors=10, feature_selector__kw_args={'indices': [6, 4, 0, 5, 2, 3]};, score=0.604 total time=   0.1s\n",
            "[CV 4/7; 3/6] END classifier__n_neighbors=10, feature_selector__kw_args={'indices': [6, 4, 0, 5, 2]};, score=0.626 total time=   0.2s\n",
            "[CV 7/7; 6/6] END classifier__n_neighbors=15, feature_selector__kw_args={'indices': [6, 4, 0, 5, 2, 3]};, score=0.215 total time=   0.0s\n",
            "[CV 5/7; 4/6] END classifier__n_neighbors=10, feature_selector__kw_args={'indices': [6, 4, 0, 5, 2, 3]};, score=0.503 total time=   0.2s\n",
            "[CV 1/7; 5/6] END classifier__n_neighbors=15, feature_selector__kw_args={'indices': [6, 4, 0, 5, 2]};, score=0.398 total time=   0.1s\n",
            "[CV 3/7; 4/6] END classifier__n_neighbors=10, feature_selector__kw_args={'indices': [6, 4, 0, 5, 2, 3]};, score=0.517 total time=   0.2s\n",
            "[CV 5/7; 5/6] END classifier__n_neighbors=15, feature_selector__kw_args={'indices': [6, 4, 0, 5, 2]};, score=0.478 total time=   0.1s\n",
            "[CV 2/7; 4/6] END classifier__n_neighbors=10, feature_selector__kw_args={'indices': [6, 4, 0, 5, 2, 3]};, score=0.555 total time=   0.2s\n",
            "[CV 2/7; 5/6] END classifier__n_neighbors=15, feature_selector__kw_args={'indices': [6, 4, 0, 5, 2]};, score=0.562 total time=   0.2s\n",
            "[CV 2/7; 6/6] END classifier__n_neighbors=15, feature_selector__kw_args={'indices': [6, 4, 0, 5, 2, 3]};, score=0.563 total time=   0.1s\n",
            "[CV 6/7; 5/6] END classifier__n_neighbors=15, feature_selector__kw_args={'indices': [6, 4, 0, 5, 2]};, score=0.674 total time=   0.1s\n",
            "[CV 3/7; 5/6] END classifier__n_neighbors=15, feature_selector__kw_args={'indices': [6, 4, 0, 5, 2]};, score=0.468 total time=   0.2s\n",
            "[CV 6/7; 4/6] END classifier__n_neighbors=10, feature_selector__kw_args={'indices': [6, 4, 0, 5, 2, 3]};, score=0.736 total time=   0.2s\n",
            "[CV 5/7; 6/6] END classifier__n_neighbors=15, feature_selector__kw_args={'indices': [6, 4, 0, 5, 2, 3]};, score=0.515 total time=   0.1s\n",
            "[CV 1/7; 6/6] END classifier__n_neighbors=15, feature_selector__kw_args={'indices': [6, 4, 0, 5, 2, 3]};, score=0.379 total time=   0.2s\n",
            "[CV 4/7; 5/6] END classifier__n_neighbors=15, feature_selector__kw_args={'indices': [6, 4, 0, 5, 2]};, score=0.621 total time=   0.2s\n",
            "[CV 3/7; 6/6] END classifier__n_neighbors=15, feature_selector__kw_args={'indices': [6, 4, 0, 5, 2, 3]};, score=0.524 total time=   0.2s\n",
            "[CV 4/7; 6/6] END classifier__n_neighbors=15, feature_selector__kw_args={'indices': [6, 4, 0, 5, 2, 3]};, score=0.612 total time=   0.2s\n",
            "[CV 6/7; 6/6] END classifier__n_neighbors=15, feature_selector__kw_args={'indices': [6, 4, 0, 5, 2, 3]};, score=0.733 total time=   0.2s\n",
            "Best Parameters: {'classifier__n_neighbors': 15, 'feature_selector__kw_args': {'indices': [6, 4, 0, 5, 2, 3]}}\n"
          ]
        }
      ],
      "source": [
        "param_grid = { # Hyperparameter search space\n",
        "    'feature_selector__kw_args': [\n",
        "        {'indices': [6, 4, 0, 5, 2]},\n",
        "        {'indices': [6, 4, 0, 5, 2, 3]},\n",
        "    ],\n",
        "    'classifier__n_neighbors': [5, 10, 15],\n",
        "}\n",
        "\n",
        "clf = GridSearchCV(\n",
        "    KNNClassifier,\n",
        "    param_grid=param_grid,  # Hyperparameter search space\n",
        "    cv=LeaveOneGroupOut(),  # Subject-wise cross-validation\n",
        "    scoring='f1_macro',     # Scoring with macro F1 score\n",
        "    n_jobs=-1,              # Enable multiprocessing\n",
        "    verbose=10,             # Print processing logs\n",
        "    refit=False,           # Do not refit the cls with best params\n",
        ")\n",
        "clf.fit(X_features, Y, groups=Subjects)\n",
        "print(f'Best Parameters: {clf.best_params_}')"
      ]
    },
    {
      "cell_type": "code",
      "execution_count": null,
      "metadata": {
        "id": "d17AilLiw6L0"
      },
      "outputs": [],
      "source": []
    }
  ],
  "metadata": {
    "colab": {
      "name": "CrossValidation.ipynb",
      "provenance": []
    },
    "kernelspec": {
      "display_name": "Python 3",
      "language": "python",
      "name": "python3"
    },
    "language_info": {
      "codemirror_mode": {
        "name": "ipython",
        "version": 3
      },
      "file_extension": ".py",
      "mimetype": "text/x-python",
      "name": "python",
      "nbconvert_exporter": "python",
      "pygments_lexer": "ipython3",
      "version": "3.8.16"
    }
  },
  "nbformat": 4,
  "nbformat_minor": 0
}